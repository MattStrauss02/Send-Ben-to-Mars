{
 "cells": [
  {
   "cell_type": "code",
   "execution_count": 7,
   "id": "21f2348f",
   "metadata": {},
   "outputs": [
    {
     "name": "stdout",
     "output_type": "stream",
     "text": [
      "30 15.76 22.36\n",
      "420.36431574030826\n"
     ]
    }
   ],
   "source": [
    "import numpy as np\n",
    "\n",
    "mmcarb=12+2+16\n",
    "mmfat=12+2+0.11*16\n",
    "mmprotein=12+1.6+0.32*16+14*0.26\n",
    "print(mmcarb,mmfat,mmprotein)\n",
    "#percentages carb=0.43 fat=0.21 protein=0.36\n",
    "edc=17  #kj/g\n",
    "edf=38\n",
    "edp=17\n",
    "Tmass=9000/(0.36*17+0.21*38+0.43*17)\n",
    "print(Tmass)\n"
   ]
  },
  {
   "cell_type": "markdown",
   "id": "5e88dc70",
   "metadata": {},
   "source": [
    "Carbs:\n",
    "𝐶𝐻2𝑂\n",
    " \n",
    "Fat:\n",
    "𝐶𝐻2𝑂0.11\n",
    " \n",
    "Protein:\n",
    "𝐶𝐻1.6𝑂0.32𝑁0.26𝑆0.007"
   ]
  }
 ],
 "metadata": {
  "kernelspec": {
   "display_name": "Python 3 (ipykernel)",
   "language": "python",
   "name": "python3"
  },
  "language_info": {
   "codemirror_mode": {
    "name": "ipython",
    "version": 3
   },
   "file_extension": ".py",
   "mimetype": "text/x-python",
   "name": "python",
   "nbconvert_exporter": "python",
   "pygments_lexer": "ipython3",
   "version": "3.9.12"
  }
 },
 "nbformat": 4,
 "nbformat_minor": 5
}
