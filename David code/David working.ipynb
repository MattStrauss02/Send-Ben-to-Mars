{
 "cells": [
  {
   "cell_type": "code",
   "execution_count": 13,
   "id": "21f2348f",
   "metadata": {},
   "outputs": [
    {
     "name": "stdout",
     "output_type": "stream",
     "text": [
      "\n",
      "AD f\n"
     ]
    }
   ],
   "source": [
    "import numpy as np\n",
    "\n",
    "mmcarb=12+2+16\n",
    "mmfat=12+2+0.11*16\n",
    "mmprotein=12+1.6+0.32*16+14*0.26\n",
    "#print(mmcarb,mmfat,mmprotein)\n",
    "#percentages carb=0.43 fat=0.21 protein=0.36\n",
    "edc=17  #kj/g\n",
    "edf=38\n",
    "edp=17\n",
    "Tmass=9000/(0.36*17+0.21*38+0.43*17)\n",
    "#print(Tmass)\n",
    "ttmass=Tmass*(1+0.0036+0.0016)\n",
    "#print(ttmass)\n",
    "#                               P    Na   NH3   H2O   CO2   O2   S1      S3\n",
    "hydroponics_MatrixA=np.matrix([[0,   0,   0,    0,    1,    0,   1,       1     ],  #C\n",
    "                               [0,   0,   3,    2,    0,    0,   1.853 ,  1.46  ],  #H\n",
    "                               [0,   0,   0,    1,    2,    2,   0.479 ,  0.6   ],  #O\n",
    "                               [0,   0,   1,    0,    0,    0,   0.096 ,  0.02  ],  #N\n",
    "                               [1,   0,   0,    0,    0,    0,   0.0036,  0.0025],  #P\n",
    "                               [0,   1,   0,    0,    0,    0,   0.0016,  0.0023],  #Na\n",
    "                               [0,   0,   0,    0,    0,    0,   1,       0     ],  #S1 fed to ben\n",
    "                               [0,   0,   0,    0,    0,    0,   0,       1     ]]) #S2 non edible food\n",
    "nedryfoodd = 18.385\n",
    "nnedryfoodd = 27.04\n",
    "hydroponics_MatrixB=np.matrix([0, 0, 0, 0, 0, 0, nedryfoodd, nnedryfoodd ]).T\n",
    "#print(hydroponics_MatrixB)\n",
    "hydroponics_rates=np.linalg.solve(hydroponics_MatrixA, hydroponics_MatrixB)\n",
    "#print(hydroponics_rates)\n",
    "#                       S1     H2O  02   CO2   U    S2       P    Na\n",
    "ben_MatrixA=np.matrix([[1,     0,   0,   1,    1,   1,       0,   0], #C\n",
    "                       [1.853, 2,   0,   0,    4,   1.75,    0,   0], #H\n",
    "                       [0.479, 1,   2,   2,    1,   0.59,    0,   0], #O\n",
    "                       [0.096, 0,   0,   0,    2,   0.125,   0,   0], #N\n",
    "                       [0.0036,0,   0,   0,    0,   0.005825,1,   0], #P\n",
    "                       [0.0016,0,   0,   0,    0,   0.00172, 0,   1], #Na\n",
    "                       [1,     0,   0,   0,    0,   0,       0,   0], #Food\n",
    "                       [0,     0,   0,   0,    1,   0,       0,   0]])#Urine\n",
    "ben_MatrixB=np.matrix([[0, 0, 0, 0, 0, 0, nedryfoodd, 40/60 ]]).T\n",
    "#print(ben_MatrixB)\n",
    "ben_rates=np.linalg.solve(ben_MatrixA,ben_MatrixB)\n",
    "#print(ben_rates)\n",
    "print('\\nAD f')"
   ]
  },
  {
   "cell_type": "markdown",
   "id": "5e88dc70",
   "metadata": {},
   "source": [
    "Carbs:\n",
    "𝐶𝐻2𝑂\n",
    " \n",
    "Fat:\n",
    "𝐶𝐻2𝑂0.11\n",
    " \n",
    "Protein:\n",
    "𝐶𝐻1.6𝑂0.32𝑁0.26𝑆0.007"
   ]
  }
 ],
 "metadata": {
  "kernelspec": {
   "display_name": "Python 3 (ipykernel)",
   "language": "python",
   "name": "python3"
  },
  "language_info": {
   "codemirror_mode": {
    "name": "ipython",
    "version": 3
   },
   "file_extension": ".py",
   "mimetype": "text/x-python",
   "name": "python",
   "nbconvert_exporter": "python",
   "pygments_lexer": "ipython3",
   "version": "3.9.12"
  }
 },
 "nbformat": 4,
 "nbformat_minor": 5
}
