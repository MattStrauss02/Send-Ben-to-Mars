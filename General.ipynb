{
 "cells": [
  {
   "cell_type": "code",
   "execution_count": 2,
   "id": "c6de3754",
   "metadata": {},
   "outputs": [],
   "source": [
    "import numpy as np\n",
    "from scipy.optimize import fsolve\n",
    "from matplotlib import pyplot as plt\n",
    "import pandas as pd"
   ]
  },
  {
   "cell_type": "code",
   "execution_count": 3,
   "id": "f45a35ec",
   "metadata": {},
   "outputs": [],
   "source": [
    "#Composition specifications:\n",
    "#order         C;   H;  O;  N;  P;  Na;   \n",
    "\n",
    "S1 = np.array([1,1.854,0.48,0.095,0.0036,0.0016])\n",
    "S2 = np.array([1,1.75,0.59,0.125,0.005825,0.00172])\n",
    "S3 = np.array([1,1.46,0.6,0.02,0.0025,0.0023])\n",
    "S4 = np.array([1,1.7,0.75,0.02,0.0275,0.00118])\n",
    "S5 = np.array([1,1.8,0.5,0.08,0.02,0])\n",
    "S6 = np.array([1,1.7,0.55,0.13,0.02,0])"
   ]
  },
  {
   "cell_type": "code",
   "execution_count": null,
   "id": "eba3744b",
   "metadata": {},
   "outputs": [],
   "source": [
    "wetFractionFood = 0.6\n",
    "nonEdibleFraction = 0.6"
   ]
  },
  {
   "cell_type": "code",
   "execution_count": null,
   "id": "f1873547",
   "metadata": {},
   "outputs": [],
   "source": [
    "kiloJoulesRequired = 9000\n",
    "#                                     Prot, Fat, Carbs\n",
    "foodFractionsDryMassBasis = np.array([0.36,0.21,0.43])\n",
    "energyPerDryGramFoodGroup = np.array([17,38,17])\n",
    "energyPerDryGramFood = np.sum(foodFractionsDryMassBasis * energyPerDryGramFoodGroup)\n",
    "massChonDryFoodPerDay = kiloJoulesRequired / energyPerDryGramFood\n",
    "molsChonDryFoodPerDay = massChonDryFoodPerDay / (MM[0]*S1[0] + MM[1]*S1[1] + MM[2]*S1[2] + MM[3]*S1[3])\n",
    "massDryFoodPerDay = molsChonDryFoodPerDay * np.sum(MM*S1)\n",
    "\n",
    "massWetFoodPerDay = massDryFoodPerDay / (1 - wetFractionFood)\n",
    "\n",
    "massNonEdibleDryFoodPerDay = massDryFoodPerDay / (1 - nonEdibleFraction) * nonEdibleFraction\n",
    "\n",
    "massNonEdibleWetFoodPerDay = massNonEdibleDryFoodPerDay / (1 - wetFractionFood)\n",
    "\n",
    "print('Mass dry food per day =',np.round(massDryFoodPerDay,2))\n",
    "print('Mass wet food per day =',np.round(massWetFoodPerDay,2))\n",
    "print('Mass dry non-edible food per day =',np.round(massNonEdibleDryFoodPerDay,2))\n",
    "print('Mass wet non-edible food per day =',np.round(massNonEdibleWetFoodPerDay,2))"
   ]
  },
  {
   "cell_type": "code",
   "execution_count": null,
   "id": "5cf1c9ce",
   "metadata": {},
   "outputs": [],
   "source": [
    "molsDryFoodPerDay = molsChonDryFoodPerDay\n",
    "molsNonEdibleDryFoodPerDay = massNonEdibleDryFoodPerDay / np.sum(MM * S3)\n",
    "\n",
    "print('Mols dry food per day =',np.round(molsDryFoodPerDay,3))\n",
    "print('Mols dry non-edible food per day =',np.round(molsNonEdibleDryFoodPerDay,3))"
   ]
  },
  {
   "cell_type": "code",
   "execution_count": 3,
   "id": "d2c35acc",
   "metadata": {},
   "outputs": [
    {
     "data": {
      "text/plain": [
       "matrix([[0.000e+00, 0.000e+00, 0.000e+00, 0.000e+00, 1.000e+00,\n",
       "         0.000e+00, 1.000e+00, 1.000e+00],\n",
       "        [0.000e+00, 0.000e+00, 3.000e+00, 2.000e+00, 0.000e+00,\n",
       "         0.000e+00, 1.853e+00, 1.460e+00],\n",
       "        [0.000e+00, 0.000e+00, 0.000e+00, 1.000e+00, 2.000e+00,\n",
       "         2.000e+00, 4.790e-01, 6.000e-01],\n",
       "        [0.000e+00, 0.000e+00, 1.000e+00, 0.000e+00, 0.000e+00,\n",
       "         0.000e+00, 9.600e-02, 2.000e-02],\n",
       "        [1.000e+00, 0.000e+00, 0.000e+00, 0.000e+00, 0.000e+00,\n",
       "         0.000e+00, 3.600e-03, 2.500e-03],\n",
       "        [0.000e+00, 1.000e+00, 0.000e+00, 0.000e+00, 0.000e+00,\n",
       "         0.000e+00, 1.600e-03, 2.300e-03],\n",
       "        [0.000e+00, 0.000e+00, 0.000e+00, 0.000e+00, 0.000e+00,\n",
       "         0.000e+00, 1.000e+00, 0.000e+00],\n",
       "        [0.000e+00, 0.000e+00, 0.000e+00, 0.000e+00, 0.000e+00,\n",
       "         0.000e+00, 0.000e+00, 1.000e+00]])"
      ]
     },
     "execution_count": 3,
     "metadata": {},
     "output_type": "execute_result"
    }
   ],
   "source": [
    "import numpy as np\n",
    "#                               P    Na   NH3   H2O   CO2   O2   S1      S3\n",
    "hydroponics_MatrixA=np.matrix([[0,   0,   0,    0,    1,    0,   1,       1     ],  #C\n",
    "                               [0,   0,   3,    2,    0,    0,   1.853 ,  1.46  ],  #H\n",
    "                               [0,   0,   0,    1,    2,    2,   0.479 ,  0.6   ],  #O\n",
    "                               [0,   0,   1,    0,    0,    0,   0.096 ,  0.02  ],  #N\n",
    "                               [1,   0,   0,    0,    0,    0,   0.0036,  0.0025],  #P\n",
    "                               [0,   1,   0,    0,    0,    0,   0.0016,  0.0023],  #Na\n",
    "                               [0,   0,   0,    0,    0,    0,   1,       0     ],  #S1 fed to ben\n",
    "                               [0,   0,   0,    0,    0,    0,   0,       1     ]]) #S2 non edible food\n",
    "hydroponics_MatrixA\n",
    "                               "
   ]
  },
  {
   "cell_type": "code",
   "execution_count": 7,
   "id": "23a17b5e",
   "metadata": {},
   "outputs": [
    {
     "data": {
      "text/plain": [
       "matrix([[ 0.        ],\n",
       "        [ 0.        ],\n",
       "        [ 0.        ],\n",
       "        [ 0.        ],\n",
       "        [ 0.        ],\n",
       "        [ 0.        ],\n",
       "        [19.01527202],\n",
       "        [27.96288091]])"
      ]
     },
     "execution_count": 7,
     "metadata": {},
     "output_type": "execute_result"
    }
   ],
   "source": [
    "hydroponics_MatrixB=np.matrix([0, 0, 0, 0, 0, 0, molsDryFoodPerDay, molsNonEdibleDryFoodPerDay ]).T\n",
    "hydroponics_MatrixB"
   ]
  },
  {
   "cell_type": "code",
   "execution_count": 8,
   "id": "de130e94",
   "metadata": {},
   "outputs": [
    {
     "name": "stdout",
     "output_type": "stream",
     "text": [
      "[[ -0.13836218]\n",
      " [ -0.09473906]\n",
      " [ -2.38472373]\n",
      " [-34.45346699]\n",
      " [-46.97815292]\n",
      " [ 51.2618645 ]\n",
      " [ 19.01527202]\n",
      " [ 27.96288091]]\n"
     ]
    }
   ],
   "source": [
    "hydroponics_rates=np.linalg.solve(hydroponics_MatrixA, hydroponics_MatrixB)\n",
    "print(hydroponics_rates)"
   ]
  },
  {
   "cell_type": "code",
   "execution_count": null,
   "id": "b70e3601",
   "metadata": {},
   "outputs": [],
   "source": []
  }
 ],
 "metadata": {
  "kernelspec": {
   "display_name": "Python 3 (ipykernel)",
   "language": "python",
   "name": "python3"
  },
  "language_info": {
   "codemirror_mode": {
    "name": "ipython",
    "version": 3
   },
   "file_extension": ".py",
   "mimetype": "text/x-python",
   "name": "python",
   "nbconvert_exporter": "python",
   "pygments_lexer": "ipython3",
   "version": "3.10.9"
  }
 },
 "nbformat": 4,
 "nbformat_minor": 5
}
