{
 "cells": [
  {
   "cell_type": "code",
   "execution_count": 3,
   "metadata": {},
   "outputs": [
    {
     "data": {
      "text/plain": [
       "matrix([[0.000e+00, 0.000e+00, 0.000e+00, 0.000e+00, 1.000e+00,\n",
       "         0.000e+00, 1.000e+00, 1.000e+00],\n",
       "        [0.000e+00, 0.000e+00, 3.000e+00, 2.000e+00, 0.000e+00,\n",
       "         0.000e+00, 1.853e+00, 1.460e+00],\n",
       "        [0.000e+00, 0.000e+00, 0.000e+00, 1.000e+00, 2.000e+00,\n",
       "         2.000e+00, 4.790e-01, 6.000e-01],\n",
       "        [0.000e+00, 0.000e+00, 1.000e+00, 0.000e+00, 0.000e+00,\n",
       "         0.000e+00, 9.600e-02, 2.000e-02],\n",
       "        [1.000e+00, 0.000e+00, 0.000e+00, 0.000e+00, 0.000e+00,\n",
       "         0.000e+00, 3.600e-03, 2.500e-03],\n",
       "        [0.000e+00, 1.000e+00, 0.000e+00, 0.000e+00, 0.000e+00,\n",
       "         0.000e+00, 1.600e-03, 2.300e-03],\n",
       "        [0.000e+00, 0.000e+00, 0.000e+00, 0.000e+00, 0.000e+00,\n",
       "         0.000e+00, 1.000e+00, 0.000e+00],\n",
       "        [0.000e+00, 0.000e+00, 0.000e+00, 0.000e+00, 0.000e+00,\n",
       "         0.000e+00, 0.000e+00, 1.000e+00]])"
      ]
     },
     "execution_count": 3,
     "metadata": {},
     "output_type": "execute_result"
    }
   ],
   "source": [
    "import numpy as np\n",
    "#                               P    Na   NH3   H2O   CO2   O2   S1      S3\n",
    "hydroponics_MatrixA=np.matrix([[0,   0,   0,    0,    1,    0,   1,       1     ],  #C\n",
    "                               [0,   0,   3,    2,    0,    0,   1.853 ,  1.46  ],  #H\n",
    "                               [0,   0,   0,    1,    2,    2,   0.479 ,  0.6   ],  #O\n",
    "                               [0,   0,   1,    0,    0,    0,   0.096 ,  0.02  ],  #N\n",
    "                               [1,   0,   0,    0,    0,    0,   0.0036,  0.0025],  #P\n",
    "                               [0,   1,   0,    0,    0,    0,   0.0016,  0.0023],  #Na\n",
    "                               [0,   0,   0,    0,    0,    0,   1,       0     ],  #S1 fed to ben\n",
    "                               [0,   0,   0,    0,    0,    0,   0,       1     ]]) #S2 non edible food\n",
    "hydroponics_MatrixA\n",
    "                               "
   ]
  },
  {
   "cell_type": "code",
   "execution_count": 5,
   "metadata": {},
   "outputs": [
    {
     "data": {
      "text/plain": [
       "matrix([[ 0.        ],\n",
       "        [ 0.        ],\n",
       "        [ 0.        ],\n",
       "        [ 0.        ],\n",
       "        [ 0.        ],\n",
       "        [ 0.        ],\n",
       "        [47.53818005],\n",
       "        [69.90677619]])"
      ]
     },
     "execution_count": 5,
     "metadata": {},
     "output_type": "execute_result"
    }
   ],
   "source": [
    "MMS1=12+1.853+0.479*16+0.096*14+0.0036*31+0.0016*23\n",
    "MMS3=12+1.46+0.6*16+0.02*14+0.0025*31+0.0023*23\n",
    "hydroponics_MatrixB=np.matrix([0, 0, 0, 0, 0, 0, 1093.825/MMS1, 1640.74/MMS3 ]).T\n",
    "hydroponics_MatrixB"
   ]
  },
  {
   "cell_type": "code",
   "execution_count": 6,
   "metadata": {},
   "outputs": [
    {
     "name": "stdout",
     "output_type": "stream",
     "text": [
      "[[  -0.34590439]\n",
      " [  -0.23684667]\n",
      " [  -5.96180081]\n",
      " [ -86.13336922]\n",
      " [-117.44495624]\n",
      " [ 128.15421387]\n",
      " [  47.53818005]\n",
      " [  69.90677619]]\n"
     ]
    }
   ],
   "source": [
    "hydroponics_rates=np.linalg.solve(hydroponics_MatrixA, hydroponics_MatrixB)\n",
    "print(hydroponics_rates)"
   ]
  },
  {
   "cell_type": "code",
   "execution_count": null,
   "metadata": {},
   "outputs": [],
   "source": []
  }
 ],
 "metadata": {
  "kernelspec": {
   "display_name": "Python 3",
   "language": "python",
   "name": "python3"
  },
  "language_info": {
   "codemirror_mode": {
    "name": "ipython",
    "version": 3
   },
   "file_extension": ".py",
   "mimetype": "text/x-python",
   "name": "python",
   "nbconvert_exporter": "python",
   "pygments_lexer": "ipython3",
   "version": "3.8.3"
  }
 },
 "nbformat": 4,
 "nbformat_minor": 5
}
