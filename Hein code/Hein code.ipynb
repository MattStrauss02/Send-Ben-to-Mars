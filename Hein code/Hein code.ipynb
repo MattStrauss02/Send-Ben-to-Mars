{
 "cells": [
  {
   "cell_type": "code",
   "execution_count": 10,
   "metadata": {},
   "outputs": [
    {
     "data": {
      "text/plain": [
       "'C H1.854 O0.48 N0.095 P0.0036 Na0.0016'"
      ]
     },
     "execution_count": 10,
     "metadata": {},
     "output_type": "execute_result"
    }
   ],
   "source": [
    "'C H1.854 O0.48 N0.095 P0.0036 Na0.0016'"
   ]
  },
  {
   "cell_type": "code",
   "execution_count": 11,
   "metadata": {},
   "outputs": [
    {
     "name": "stdout",
     "output_type": "stream",
     "text": [
      "1.0 1.8528265723435982 0.47879112690048864 0.09566272797666145\n"
     ]
    }
   ],
   "source": [
    "import numpy as np\n",
    "#Food molar mass\n",
    "proteinMassFrac = 0.36\n",
    "fatMassFrac = 0.21\n",
    "carbsMassFrac = 0.43\n",
    "\n",
    "molarMasses = np.array([12, 1, 16, 14])\n",
    "\n",
    "proteinFormula = np.array([1,1.6,0.32,0.26])\n",
    "fatFormula = np.array([1,2,0.11,0])\n",
    "carbsFormula = np.array([1,2,1,0])\n",
    "\n",
    "#100g basis: \n",
    "foodBasis = 100\n",
    "molProtein = foodBasis*proteinMassFrac/np.sum(proteinFormula*molarMasses)\n",
    "molFat = foodBasis*fatMassFrac/np.sum(fatFormula*molarMasses)\n",
    "molCarbs = foodBasis*carbsMassFrac/np.sum(carbsFormula*molarMasses)\n",
    "\n",
    "totalMolsPer100gFood = molProtein + molFat + molCarbs\n",
    "\n",
    "proteinMolFrac = molProtein / totalMolsPer100gFood\n",
    "fatMolFrac = molFat / totalMolsPer100gFood\n",
    "carbsMolFrac = molCarbs / totalMolsPer100gFood\n",
    "\n",
    "CinFood = proteinMolFrac*proteinFormula[0] + fatMolFrac*fatFormula[0] + carbsMolFrac*carbsFormula[0]\n",
    "HinFood = proteinMolFrac*proteinFormula[1] + fatMolFrac*fatFormula[1] + carbsMolFrac*carbsFormula[1]\n",
    "OinFood = proteinMolFrac*proteinFormula[2] + fatMolFrac*fatFormula[2] + carbsMolFrac*carbsFormula[2]\n",
    "NinFood = proteinMolFrac*proteinFormula[3] + fatMolFrac*fatFormula[3] + carbsMolFrac*carbsFormula[3]\n",
    "\n",
    "\n",
    "print(CinFood, HinFood, OinFood, NinFood)\n"
   ]
  },
  {
   "cell_type": "code",
   "execution_count": 12,
   "metadata": {},
   "outputs": [
    {
     "data": {
      "text/plain": [
       "matrix([[1.000e+00, 0.000e+00, 0.000e+00, 1.000e+00, 1.000e+00,\n",
       "         1.000e+00, 0.000e+00, 0.000e+00],\n",
       "        [1.853e+00, 2.000e+00, 0.000e+00, 0.000e+00, 4.000e+00,\n",
       "         1.750e+00, 0.000e+00, 0.000e+00],\n",
       "        [4.790e-01, 1.000e+00, 2.000e+00, 2.000e+00, 1.000e+00,\n",
       "         5.900e-01, 0.000e+00, 0.000e+00],\n",
       "        [9.600e-02, 0.000e+00, 0.000e+00, 0.000e+00, 2.000e+00,\n",
       "         1.250e-01, 0.000e+00, 0.000e+00],\n",
       "        [3.600e-03, 0.000e+00, 0.000e+00, 0.000e+00, 0.000e+00,\n",
       "         5.825e-03, 1.000e+00, 0.000e+00],\n",
       "        [1.600e-03, 0.000e+00, 0.000e+00, 0.000e+00, 0.000e+00,\n",
       "         1.720e-03, 0.000e+00, 1.000e+00],\n",
       "        [1.000e+00, 0.000e+00, 0.000e+00, 0.000e+00, 0.000e+00,\n",
       "         0.000e+00, 0.000e+00, 0.000e+00],\n",
       "        [0.000e+00, 0.000e+00, 0.000e+00, 0.000e+00, 1.000e+00,\n",
       "         0.000e+00, 0.000e+00, 0.000e+00]])"
      ]
     },
     "execution_count": 12,
     "metadata": {},
     "output_type": "execute_result"
    }
   ],
   "source": [
    "KJ_per_day= 9000\n",
    "KJ_per_gram_prot=17\n",
    "KJ_per_gram_carbs=17\n",
    "KJ_per_gram_carbs=34\n",
    "# I calculate the dry mass of edible food as 437.53g, wet mass is 1093.825g\n",
    "\n",
    "# Dry Mass of unedible food is 656.3g, wet mass is 1640.74g\n",
    "#                       S1     H2O  02   CO2   U    S2       P    Na\n",
    "ben_MatrixA=np.matrix([[1,     0,   0,   1,    1,   1,       0,   0], #C\n",
    "                       [1.853, 2,   0,   0,    4,   1.75,    0,   0], #H\n",
    "                       [0.479, 1,   2,   2,    1,   0.59,    0,   0], #O\n",
    "                       [0.096, 0,   0,   0,    2,   0.125,   0,   0], #N\n",
    "                       [0.0036,0,   0,   0,    0,   0.005825,1,   0], #P\n",
    "                       [0.0016,0,   0,   0,    0,   0.00172, 0,   1], #Na\n",
    "                       [1,     0,   0,   0,    0,   0,       0,   0], #Food\n",
    "                       [0,     0,   0,   0,    1,   0,       0,   0]])#Urine\n",
    "ben_MatrixA\n"
   ]
  },
  {
   "cell_type": "code",
   "execution_count": 13,
   "metadata": {},
   "outputs": [
    {
     "name": "stdout",
     "output_type": "stream",
     "text": [
      "[[-18.3863986 ]\n",
      " [ 12.67933844]\n",
      " [-17.55406037]\n",
      " [ 14.26564448]\n",
      " [  0.66666667]\n",
      " [  3.45408746]\n",
      " [  0.04607098]\n",
      " [  0.02347721]]\n"
     ]
    }
   ],
   "source": [
    "MMS1=12+1.853+0.479*16+0.096*14+0.0036*31+0.0016*23\n",
    "ben_MatrixB=np.matrix([[0, 0, 0, 0, 0, 0, -423.06/MMS1, 40/60 ]]).T\n",
    "ben_MatrixB\n",
    "ben_rates=np.linalg.solve(ben_MatrixA,ben_MatrixB)\n",
    "print(ben_rates)\n"
   ]
  },
  {
   "cell_type": "code",
   "execution_count": 14,
   "metadata": {},
   "outputs": [
    {
     "name": "stdout",
     "output_type": "stream",
     "text": [
      "[[0.88888889]] mol/L\n"
     ]
    }
   ],
   "source": [
    "# CH40N2 + H2O > CO2 + 2NH3\n",
    "V_Urine=1.5\n",
    "mols_NH3=ben_rates[4]*2\n",
    "conc_NH3=mols_NH3/V_Urine\n",
    "print(conc_NH3,'mol/L')\n",
    "\n"
   ]
  },
  {
   "cell_type": "code",
   "execution_count": 15,
   "metadata": {},
   "outputs": [
    {
     "name": "stdout",
     "output_type": "stream",
     "text": [
      "Drymass humanure =  [[86.90530679]] g\n",
      "Watermass humanure =  [[260.71592038]] g\n"
     ]
    }
   ],
   "source": [
    "MMS2=12+1.75+0.59*16+0.125*14+0.005825*31+0.00172*23\n",
    "drymasshumanure=ben_rates[5]*MMS2\n",
    "watermasshumanure=drymasshumanure*0.75/0.25\n",
    "print('Drymass humanure = ',drymasshumanure, 'g')\n",
    "print('Watermass humanure = ',watermasshumanure, 'g')\n"
   ]
  },
  {
   "cell_type": "code",
   "execution_count": 16,
   "metadata": {},
   "outputs": [
    {
     "name": "stdout",
     "output_type": "stream",
     "text": [
      "fraction unedible food for AD = [[0.88672927]]\n",
      "fraction humanure for AD = [[0.11327073]]\n"
     ]
    }
   ],
   "source": [
    "molesunediblefood=27.04\n",
    "moleshumanure=ben_rates[5]\n",
    "totalmolesADsubstrate=molesunediblefood+moleshumanure\n",
    "fracuf=molesunediblefood/totalmolesADsubstrate\n",
    "frach=moleshumanure/totalmolesADsubstrate\n",
    "print('fraction unedible food for AD =',fracuf)\n",
    "print('fraction humanure for AD =',frach)\n"
   ]
  },
  {
   "cell_type": "code",
   "execution_count": 17,
   "metadata": {},
   "outputs": [
    {
     "name": "stdout",
     "output_type": "stream",
     "text": [
      "[[[1.        ]]\n",
      "\n",
      " [[1.49284851]]\n",
      "\n",
      " [[0.59886729]]\n",
      "\n",
      " [[0.03189343]]\n",
      "\n",
      " [[0.00287663]]\n",
      "\n",
      " [[0.0022343 ]]]\n"
     ]
    }
   ],
   "source": [
    "S2 = np.array([1,1.75,0.59,0.125,0.005825,0.00172])\n",
    "S3 = np.array([1,1.46,0.6,0.02,0.0025,0.0023])\n",
    "SAD = np.array([S3[0]*fracuf+S2[0]*frach,S3[1]*fracuf+S2[1]*frach,S3[2]*fracuf+S2[2]*frach,S3[3]*fracuf+S2[3]*frach,S3[4]*fracuf+S2[4]*frach,S3[5]*fracuf+S2[5]*frach])\n",
    "print(SAD)"
   ]
  },
  {
   "cell_type": "code",
   "execution_count": 18,
   "metadata": {},
   "outputs": [
    {
     "name": "stdout",
     "output_type": "stream",
     "text": [
      "[[ 30.494     ]\n",
      " [ -0.40959386]\n",
      " [ 11.79933285]\n",
      " [ 11.80237709]\n",
      " [ -0.1028113 ]\n",
      " [-57.62849153]\n",
      " [  3.53278158]]\n"
     ]
    }
   ],
   "source": [
    "#Substrate formula for AD for single pass\n",
    "\n",
    "#                     SAD     H2O   CO2   CH4    NH3     S5      L3\n",
    "AD_matrixA=np.matrix([[1,      0,    1,    1,    0,      1,      1   ],  #C\n",
    "                      [1.493,  2,    0,    4,    3,      1.7,    1.8 ],  #H\n",
    "                      [0.599,  1,    2,    0,    0,      0.75,   0.5 ],  #O\n",
    "                      [0.0319, 0,    0,    0,    1,      0.02,   0.08],  #N\n",
    "                      [0.00288,0,    0,    0,    0,      0.00275,0.02],  #P\n",
    "                      [0.00223,0,    0,    0,    0,      0.00118,0   ],  #Na\n",
    "                      [1,      0,    0,    0,    0,      0,      0   ]]) #Moles substrate fed\n",
    "AD_matrixA\n",
    "AD_matrixB=np.matrix([0, 0, 0, 0, 0, 0, 30.494]).T\n",
    "AD_matrixB\n",
    "AD_rates=np.linalg.solve(AD_matrixA,AD_matrixB)\n",
    "print(AD_rates)\n"
   ]
  },
  {
   "cell_type": "code",
   "execution_count": 19,
   "metadata": {},
   "outputs": [
    {
     "data": {
      "text/plain": [
       "matrix([[ 1.  ,  0.  ,  0.  ,  0.  ,  1.  ,  0.  ,  0.  ,  1.  ],\n",
       "        [ 1.8 ,  3.  ,  0.  ,  0.  ,  0.  ,  0.  ,  1.  ,  1.7 ],\n",
       "        [ 0.5 ,  0.  ,  0.  ,  0.  ,  2.  ,  2.  ,  2.  ,  0.55],\n",
       "        [ 0.08,  1.  ,  0.  ,  0.  ,  0.  ,  0.  ,  0.  ,  0.13],\n",
       "        [ 0.02,  0.  ,  1.  ,  0.  ,  0.  ,  0.  ,  0.  ,  0.02],\n",
       "        [ 0.  ,  0.  ,  0.  ,  1.  ,  0.  ,  0.  ,  0.  ,  0.  ],\n",
       "        [-2.5 ,  0.  ,  0.  ,  0.  ,  0.  ,  0.  ,  0.  ,  3.  ],\n",
       "        [ 1.  ,  0.  ,  0.  ,  0.  ,  0.  ,  0.  ,  0.  ,  0.  ]])"
      ]
     },
     "execution_count": 19,
     "metadata": {},
     "output_type": "execute_result"
    }
   ],
   "source": [
    "thetamax3=0.55 # Unit 3\n",
    "mumax3=0.07 #1/day\n",
    "Ks_mu3=0.04 #cmol/L\n",
    "Ks_theta3=0.008/1e6  #cmol/L\n",
    "Na_conc=300/1000/23 #mol/L (300mg/L in clean water)\n",
    "mumax4=0.17 #1/day\n",
    "thetamax4=0.57 #molATP/cmolX/day in Unit4\n",
    "kla=20 #1/day\n",
    "Ks_mu4=0.002 #cmol/L\n",
    "Co_sat=7/1000/32 #mol/l\n",
    "Ko_mu4=Co_sat*0.15 #mol/L\n",
    "Ks_theta4=Ks_mu4/1e6 #cmol/L\n",
    "Ko_theta4=Ko_mu4/1e6 #mol/L\n",
    "Q1=1.5  #L\n",
    "#                         X3    NH3    P    Na    CO2     O2    H2O    X4\n",
    "unit4matrixA=np.matrix([[ 1,     0,    0,    0,    1,     0,    0,     1    ], #C\n",
    "                        [ 1.8,   3,    0,    0,    0,     0,    1,     1.7  ], #H\n",
    "                        [ 0.5,   0,    0,    0,    2,     2,    2,     0.55 ], #O\n",
    "                        [ 0.08,  1,    0,    0,    0,     0,    0,     0.13 ], #N\n",
    "                        [ 0.02,  0,    1,    0,    0,     0,    0,     0.02 ], #P\n",
    "                        [ 0,     0,    0,    1,    0,     0,    0,     0    ], #Na\n",
    "                        [ -2.5,  0,    0,    0,    0,     0,    0,     3    ], #Energy\n",
    "                        [ 1,      0,    0,    0,    0,     0,    0,    0]   ]) #Substrate leaving\n",
    "                            \n",
    "unit4matrixA\n"
   ]
  }
 ],
 "metadata": {
  "kernelspec": {
   "display_name": "base",
   "language": "python",
   "name": "python3"
  },
  "language_info": {
   "codemirror_mode": {
    "name": "ipython",
    "version": 3
   },
   "file_extension": ".py",
   "mimetype": "text/x-python",
   "name": "python",
   "nbconvert_exporter": "python",
   "pygments_lexer": "ipython3",
   "version": "3.10.9"
  },
  "orig_nbformat": 4
 },
 "nbformat": 4,
 "nbformat_minor": 2
}
