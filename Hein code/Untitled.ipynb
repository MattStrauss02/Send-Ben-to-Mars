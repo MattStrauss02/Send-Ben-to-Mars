{
 "cells": [
  {
   "cell_type": "code",
   "execution_count": 1,
   "metadata": {},
   "outputs": [
    {
     "data": {
      "text/plain": [
       "'C H1.854 O0.48 N0.095 P0.0036 Na0.0016'"
      ]
     },
     "execution_count": 1,
     "metadata": {},
     "output_type": "execute_result"
    }
   ],
   "source": [
    "'C H1.854 O0.48 N0.095 P0.0036 Na0.0016'"
   ]
  },
  {
   "cell_type": "code",
   "execution_count": 2,
   "metadata": {},
   "outputs": [],
   "source": [
    "import numpy as np"
   ]
  },
  {
   "cell_type": "code",
   "execution_count": 3,
   "metadata": {},
   "outputs": [
    {
     "name": "stdout",
     "output_type": "stream",
     "text": [
      "1.0 1.8528265723435982 0.47879112690048864 0.09566272797666145\n"
     ]
    }
   ],
   "source": [
    "#Food molar mass\n",
    "proteinMassFrac = 0.36\n",
    "fatMassFrac = 0.21\n",
    "carbsMassFrac = 0.43\n",
    "\n",
    "molarMasses = np.array([12, 1, 16, 14])\n",
    "\n",
    "proteinFormula = np.array([1,1.6,0.32,0.26])\n",
    "fatFormula = np.array([1,2,0.11,0])\n",
    "carbsFormula = np.array([1,2,1,0])\n",
    "\n",
    "#100g basis: \n",
    "foodBasis = 100\n",
    "molProtein = foodBasis*proteinMassFrac/np.sum(proteinFormula*molarMasses)\n",
    "molFat = foodBasis*fatMassFrac/np.sum(fatFormula*molarMasses)\n",
    "molCarbs = foodBasis*carbsMassFrac/np.sum(carbsFormula*molarMasses)\n",
    "\n",
    "totalMolsPer100gFood = molProtein + molFat + molCarbs\n",
    "\n",
    "proteinMolFrac = molProtein / totalMolsPer100gFood\n",
    "fatMolFrac = molFat / totalMolsPer100gFood\n",
    "carbsMolFrac = molCarbs / totalMolsPer100gFood\n",
    "\n",
    "CinFood = proteinMolFrac*proteinFormula[0] + fatMolFrac*fatFormula[0] + carbsMolFrac*carbsFormula[0]\n",
    "HinFood = proteinMolFrac*proteinFormula[1] + fatMolFrac*fatFormula[1] + carbsMolFrac*carbsFormula[1]\n",
    "OinFood = proteinMolFrac*proteinFormula[2] + fatMolFrac*fatFormula[2] + carbsMolFrac*carbsFormula[2]\n",
    "NinFood = proteinMolFrac*proteinFormula[3] + fatMolFrac*fatFormula[3] + carbsMolFrac*carbsFormula[3]\n",
    "\n",
    "\n",
    "print(CinFood, HinFood, OinFood, NinFood)"
   ]
  },
  {
   "cell_type": "code",
   "execution_count": 4,
   "metadata": {},
   "outputs": [],
   "source": [
    "KJ_per_day= 9000\n",
    "KJ_per_gram_prot=17\n",
    "KJ_per_gram_carbs=17\n",
    "KJ_per_gram_carbs=34\n",
    "# I calculate the dry mass of edible food as 437.53g, wet mass is 1093.825g\n",
    "# Dry Mass of unedible food is 656.3g, wet mass is 1640.74g"
   ]
  },
  {
   "cell_type": "code",
   "execution_count": 5,
   "metadata": {},
   "outputs": [
    {
     "data": {
      "text/plain": [
       "matrix([[1.000e+00, 0.000e+00, 0.000e+00, 1.000e+00, 1.000e+00,\n",
       "         1.000e+00, 0.000e+00, 0.000e+00],\n",
       "        [1.853e+00, 2.000e+00, 0.000e+00, 0.000e+00, 4.000e+00,\n",
       "         1.750e+00, 0.000e+00, 0.000e+00],\n",
       "        [4.790e-01, 1.000e+00, 2.000e+00, 2.000e+00, 1.000e+00,\n",
       "         5.900e-01, 0.000e+00, 0.000e+00],\n",
       "        [9.600e-02, 0.000e+00, 0.000e+00, 0.000e+00, 2.000e+00,\n",
       "         1.250e-01, 0.000e+00, 0.000e+00],\n",
       "        [3.600e-03, 0.000e+00, 0.000e+00, 0.000e+00, 0.000e+00,\n",
       "         5.825e-03, 1.000e+00, 0.000e+00],\n",
       "        [1.600e-03, 0.000e+00, 0.000e+00, 0.000e+00, 0.000e+00,\n",
       "         1.720e-03, 0.000e+00, 1.000e+00],\n",
       "        [1.000e+00, 0.000e+00, 0.000e+00, 0.000e+00, 0.000e+00,\n",
       "         0.000e+00, 0.000e+00, 0.000e+00],\n",
       "        [0.000e+00, 0.000e+00, 0.000e+00, 0.000e+00, 1.000e+00,\n",
       "         0.000e+00, 0.000e+00, 0.000e+00]])"
      ]
     },
     "execution_count": 5,
     "metadata": {},
     "output_type": "execute_result"
    }
   ],
   "source": [
    "#                       S1     H2O  02   CO2   U    S2       P    Na\n",
    "ben_MatrixA=np.matrix([[1,     0,   0,   1,    1,   1,       0,   0], #C\n",
    "                       [1.853, 2,   0,   0,    4,   1.75,    0,   0], #H\n",
    "                       [0.479, 1,   2,   2,    1,   0.59,    0,   0], #O\n",
    "                       [0.096, 0,   0,   0,    2,   0.125,   0,   0], #N\n",
    "                       [0.0036,0,   0,   0,    0,   0.005825,1,   0], #P\n",
    "                       [0.0016,0,   0,   0,    0,   0.00172, 0,   1], #Na\n",
    "                       [1,     0,   0,   0,    0,   0,       0,   0], #Food\n",
    "                       [0,     0,   0,   0,    1,   0,       0,   0]])#Urine\n",
    "ben_MatrixA"
   ]
  },
  {
   "cell_type": "code",
   "execution_count": 6,
   "metadata": {},
   "outputs": [
    {
     "data": {
      "text/plain": [
       "matrix([[  0.        ],\n",
       "        [  0.        ],\n",
       "        [  0.        ],\n",
       "        [  0.        ],\n",
       "        [  0.        ],\n",
       "        [  0.        ],\n",
       "        [-18.3863986 ],\n",
       "        [  0.66666667]])"
      ]
     },
     "execution_count": 6,
     "metadata": {},
     "output_type": "execute_result"
    }
   ],
   "source": [
    "MMS1=12+1.853+0.479*16+0.096*14+0.0036*31+0.0016*23\n",
    "ben_MatrixB=np.matrix([[0, 0, 0, 0, 0, 0, -423.06/MMS1, 40/60 ]]).T\n",
    "ben_MatrixB"
   ]
  },
  {
   "cell_type": "code",
   "execution_count": 7,
   "metadata": {},
   "outputs": [
    {
     "name": "stdout",
     "output_type": "stream",
     "text": [
      "[[-18.3863986 ]\n",
      " [ 12.67933844]\n",
      " [-17.55406037]\n",
      " [ 14.26564448]\n",
      " [  0.66666667]\n",
      " [  3.45408746]\n",
      " [  0.04607098]\n",
      " [  0.02347721]]\n"
     ]
    }
   ],
   "source": [
    "ben_rates=np.linalg.solve(ben_MatrixA,ben_MatrixB)\n",
    "print(ben_rates)"
   ]
  },
  {
   "cell_type": "code",
   "execution_count": 11,
   "metadata": {},
   "outputs": [
    {
     "name": "stdout",
     "output_type": "stream",
     "text": [
      "[[0.88888889]] mol/L\n"
     ]
    }
   ],
   "source": [
    "# CH40N2 + H2O > CO2 + 2NH3\n",
    "V_Urine=1.5\n",
    "mols_NH3=ben_rates[4]*2\n",
    "conc_NH3=mols_NH3/V_Urine\n",
    "print(conc_NH3,'mol/L')\n"
   ]
  },
  {
   "cell_type": "code",
   "execution_count": null,
   "metadata": {},
   "outputs": [],
   "source": []
  }
 ],
 "metadata": {
  "kernelspec": {
   "display_name": "Python 3",
   "language": "python",
   "name": "python3"
  },
  "language_info": {
   "codemirror_mode": {
    "name": "ipython",
    "version": 3
   },
   "file_extension": ".py",
   "mimetype": "text/x-python",
   "name": "python",
   "nbconvert_exporter": "python",
   "pygments_lexer": "ipython3",
   "version": "3.8.3"
  }
 },
 "nbformat": 4,
 "nbformat_minor": 5
}
