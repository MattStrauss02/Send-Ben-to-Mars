{
 "cells": [
  {
   "cell_type": "code",
   "execution_count": 1,
   "id": "050c2d48",
   "metadata": {},
   "outputs": [
    {
     "data": {
      "text/plain": [
       "'C H1.854 O0.48 N0.095 P0.0036 Na0.0016'"
      ]
     },
     "execution_count": 1,
     "metadata": {},
     "output_type": "execute_result"
    }
   ],
   "source": [
    "'C H1.854 O0.48 N0.095 P0.0036 Na0.0016'"
   ]
  },
  {
   "cell_type": "code",
   "execution_count": 1,
   "id": "e4c75d87",
   "metadata": {},
   "outputs": [
    {
     "ename": "ModuleNotFoundError",
     "evalue": "No module named 'numpy'",
     "output_type": "error",
     "traceback": [
      "\u001b[0;31m---------------------------------------------------------------------------\u001b[0m",
      "\u001b[0;31mModuleNotFoundError\u001b[0m                       Traceback (most recent call last)",
      "Cell \u001b[0;32mIn[1], line 1\u001b[0m\n\u001b[0;32m----> 1\u001b[0m \u001b[39mimport\u001b[39;00m \u001b[39mnumpy\u001b[39;00m \u001b[39mas\u001b[39;00m \u001b[39mnp\u001b[39;00m\n",
      "\u001b[0;31mModuleNotFoundError\u001b[0m: No module named 'numpy'"
     ]
    }
   ],
   "source": [
    "import numpy as np"
   ]
  },
  {
   "cell_type": "code",
   "execution_count": null,
   "id": "a39e3b45",
   "metadata": {},
   "outputs": [],
   "source": [
    "#Food molar mass\n",
    "proteinMassFrac = 0.36\n",
    "fatMassFrac = 0.21\n",
    "carbsMassFrac = 0.43\n",
    "\n",
    "molarMasses = np.array([12, 1, 16, 14, 32])\n",
    "\n",
    "proteinFormula = np.array([1,1.6,0.32,0.26,0.007])\n",
    "fatFormula = np.array([1,2,0.11])\n",
    "carbsFormula = np.array([1,2,1])\n",
    "\n",
    "#100g basis: \n",
    "foodBasis = 100\n",
    "molProtein = foodBasis*proteinMassFrac/(proteinFormula*molarMasses)\n",
    "molFat = foodBasis*fatMassFrac/(fatFormula*molarMasses)\n",
    "molCarbs = foodBasis*carbsMassFrac/(carbsFormula*molarMasses)\n",
    "\n",
    "totalMolsPer100gFood = molProtein + molFat + molCarbs\n",
    "\n",
    "proteinMolFrac = molProtein / totalMolsPer100gFood\n",
    "fatMolFrac = molFat / totalMolsPer100gFood\n",
    "carbsMolFrac = molCarbs / totalMolsPer100gFood\n",
    "\n",
    "CinFood = proteinMolFrac*proteinFormula[0] + fatMolFrac*fatFormula[0] + carbsMolFrac*carbsFormula[0]\n",
    "HinFood = proteinMolFrac*proteinFormula[1] + fatMolFrac*fatFormula[1] + carbsMolFrac*carbsFormula[1]\n",
    "OinFood = proteinMolFrac*proteinFormula[2] + fatMolFrac*fatFormula[2] + carbsMolFrac*carbsFormula[2]\n",
    "NinFood = proteinMolFrac*proteinFormula[3] + fatMolFrac*fatFormula[3] + carbsMolFrac*carbsFormula[3]\n",
    "SinFood = proteinMolFrac*proteinFormula[4] + fatMolFrac*fatFormula[4] + carbsMolFrac*carbsFormula[4]\n",
    "\n",
    "print(CinFood, HinFood, OinFood, NinFood, SinFood)"
   ]
  }
 ],
 "metadata": {
  "kernelspec": {
   "display_name": "Python 3",
   "language": "python",
   "name": "python3"
  },
  "language_info": {
   "codemirror_mode": {
    "name": "ipython",
    "version": 3
   },
   "file_extension": ".py",
   "mimetype": "text/x-python",
   "name": "python",
   "nbconvert_exporter": "python",
   "pygments_lexer": "ipython3",
   "version": "3.9.6"
  }
 },
 "nbformat": 4,
 "nbformat_minor": 5
}
