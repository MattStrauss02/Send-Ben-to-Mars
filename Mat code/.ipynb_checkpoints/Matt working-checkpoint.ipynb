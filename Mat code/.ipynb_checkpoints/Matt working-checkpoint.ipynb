{
 "cells": [
  {
   "cell_type": "code",
   "execution_count": 1,
   "id": "d2c98fce",
   "metadata": {},
   "outputs": [],
   "source": [
    "import numpy as np"
   ]
  },
  {
   "cell_type": "code",
   "execution_count": 2,
   "id": "929e3e85",
   "metadata": {},
   "outputs": [],
   "source": [
    "# List of key parameters\n",
    "\n",
    "thetamax3=0.55 # Unit 3\n",
    "mumax3=0.07 #1/day\n",
    "Ks_mu3=0.04 #cmol/L\n",
    "Ks_theta3=0.008/1e6  #cmol/L\n",
    "Na_conc=300/1000/23 #mol/L (300mg/L in clean water)\n",
    "mumax4=0.17 #1/day\n",
    "\n",
    "thetamax4=0.57 #molATP/cmolX/day in Unit4\n",
    "kla=20 #1/day\n",
    "Ks_mu4=0.002 #cmol/L\n",
    "Co_sat=7/1000/32 #mol/l\n",
    "Ko_mu4=Co_sat*0.15 #mol/L\n",
    "Ks_theta4=Ks_mu4/1e6 #cmol/L\n",
    "Ko_theta4=Ko_mu4/1e6 #mol/L\n",
    "Q1=1.5  #L"
   ]
  },
  {
   "cell_type": "code",
   "execution_count": 3,
   "id": "12bdbb61",
   "metadata": {},
   "outputs": [],
   "source": [
    "MM = np.array([12,1,16,14,31,23])"
   ]
  },
  {
   "cell_type": "code",
   "execution_count": 4,
   "id": "2bddab0a",
   "metadata": {},
   "outputs": [],
   "source": [
    "\n",
    "\n",
    "#Composition specs 'C H1.854 O0.48 N0.095 P0.0036 Na0.0016'"
   ]
  },
  {
   "cell_type": "code",
   "execution_count": 5,
   "id": "8a9b09b5",
   "metadata": {},
   "outputs": [],
   "source": [
    "#Composition specifications:\n",
    "#order         C;   H;  O;  N;  P;  Na;  \n",
    "\n",
    "S1 = np.array([1,1.854,0.48,0.095,0.0036,0.0016])\n",
    "S2 = np.array([1,1.75,0.59,0.125,0.005825,0.00172])\n",
    "S3 = np.array([1,1.46,0.6,0.02,0.0025,0.0023])\n",
    "S4 = np.array([1,1.7,0.75,0.02,0.0275,0.00118])\n",
    "S5 = np.array([1,1.8,0.5,0.08,0.02,0])\n",
    "S6 = np.array([1,1.7,0.55,0.13,0.02,0])"
   ]
  },
  {
   "cell_type": "markdown",
   "id": "1a79d84b",
   "metadata": {},
   "source": [
    "Calculating the amount of food Ben eats and all the NE's associated with this."
   ]
  },
  {
   "cell_type": "code",
   "execution_count": 6,
   "id": "8e8d720d",
   "metadata": {},
   "outputs": [],
   "source": [
    "wetFractionFood = 0.6\n",
    "nonEdibleFraction = 0.6"
   ]
  },
  {
   "cell_type": "code",
   "execution_count": 7,
   "id": "9858bb9c",
   "metadata": {},
   "outputs": [
    {
     "name": "stdout",
     "output_type": "stream",
     "text": [
      "Mass dry food per day = 423.09\n",
      "Mass wet food per day = 1057.73\n",
      "Mass dry non-edible food per day = 634.64\n",
      "Mass wet non-edible food per day = 1586.6\n"
     ]
    }
   ],
   "source": [
    "kiloJoulesRequired = 9000\n",
    "#                                     Prot, Fat, Carbs\n",
    "foodFractionsDryMassBasis = np.array([0.36,0.21,0.43])\n",
    "energyPerDryGramFoodGroup = np.array([17,38,17])\n",
    "energyPerDryGramFood = np.sum(foodFractionsDryMassBasis * energyPerDryGramFoodGroup)\n",
    "massChonDryFoodPerDay = kiloJoulesRequired / energyPerDryGramFood\n",
    "molsChonDryFoodPerDay = massChonDryFoodPerDay / (MM[0]*S1[0] + MM[1]*S1[1] + MM[2]*S1[2] + MM[3]*S1[3])\n",
    "massDryFoodPerDay = molsChonDryFoodPerDay * np.sum(MM*S1)\n",
    "\n",
    "massWetFoodPerDay = massDryFoodPerDay / (1 - wetFractionFood)\n",
    "\n",
    "massNonEdibleDryFoodPerDay = massDryFoodPerDay / (1 - nonEdibleFraction) * nonEdibleFraction\n",
    "\n",
    "massNonEdibleWetFoodPerDay = massNonEdibleDryFoodPerDay / (1 - wetFractionFood)\n",
    "\n",
    "print('Mass dry food per day =',np.round(massDryFoodPerDay,2))\n",
    "print('Mass wet food per day =',np.round(massWetFoodPerDay,2))\n",
    "print('Mass dry non-edible food per day =',np.round(massNonEdibleDryFoodPerDay,2))\n",
    "print('Mass wet non-edible food per day =',np.round(massNonEdibleWetFoodPerDay,2))"
   ]
  },
  {
   "cell_type": "code",
   "execution_count": 8,
   "id": "83a253d1",
   "metadata": {},
   "outputs": [
    {
     "name": "stdout",
     "output_type": "stream",
     "text": [
      "Mols dry food per day = 18.385\n",
      "Mols dry non-edible food per day = 27.04\n"
     ]
    }
   ],
   "source": [
    "molsDryFoodPerDay = molsChonDryFoodPerDay\n",
    "molsNonEdibleDryFoodPerDay = massNonEdibleDryFoodPerDay / np.sum(MM * S3)\n",
    "\n",
    "print('Mols dry food per day =',np.round(molsDryFoodPerDay,3))\n",
    "print('Mols dry non-edible food per day =',np.round(molsNonEdibleDryFoodPerDay,3))"
   ]
  },
  {
   "cell_type": "markdown",
   "id": "19d83f1f",
   "metadata": {},
   "source": [
    "Solving the Hydroponics unit:"
   ]
  },
  {
   "cell_type": "code",
   "execution_count": null,
   "id": "1f6fd923",
   "metadata": {},
   "outputs": [],
   "source": []
  }
 ],
 "metadata": {
  "kernelspec": {
   "display_name": "Python 3 (ipykernel)",
   "language": "python",
   "name": "python3"
  },
  "language_info": {
   "codemirror_mode": {
    "name": "ipython",
    "version": 3
   },
   "file_extension": ".py",
   "mimetype": "text/x-python",
   "name": "python",
   "nbconvert_exporter": "python",
   "pygments_lexer": "ipython3",
   "version": "3.10.9"
  }
 },
 "nbformat": 4,
 "nbformat_minor": 5
}
