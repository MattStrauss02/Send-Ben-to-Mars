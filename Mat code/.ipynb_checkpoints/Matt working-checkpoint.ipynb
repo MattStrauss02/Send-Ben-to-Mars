{
 "cells": [
  {
   "cell_type": "code",
   "execution_count": 5,
   "id": "13074878",
   "metadata": {},
   "outputs": [],
   "source": [
    "import numpy as np"
   ]
  },
  {
   "cell_type": "code",
   "execution_count": 7,
   "id": "250bc06d",
   "metadata": {},
   "outputs": [],
   "source": [
    "# List of key parameters\n",
    "\n",
    "thetamax3=0.55 # Unit 3\n",
    "mumax3=0.07 #1/day\n",
    "Ks_mu3=0.04 #cmol/L\n",
    "Ks_theta3=0.008/1e6  #cmol/L\n",
    "Na_conc=300/1000/23 #mol/L (300mg/L in clean water)\n",
    "mumax4=0.17 #1/day\n",
    "thetamax4=0.57 #molATP/cmolX/day in Unit4\n",
    "kla=20 #1/day\n",
    "Ks_mu4=0.002 #cmol/L\n",
    "Co_sat=7/1000/32 #mol/l\n",
    "Ko_mu4=Co_sat*0.15 #mol/L\n",
    "Ks_theta4=Ks_mu4/1e6 #cmol/L\n",
    "Ko_theta4=Ko_mu4/1e6 #mol/L\n",
    "Q1=1.5  #L"
   ]
  },
  {
   "cell_type": "code",
   "execution_count": null,
   "id": "41e50598",
   "metadata": {},
   "outputs": [],
   "source": [
    "#Composition specs 'C H1.854 O0.48 N0.095 P0.0036 Na0.0016'"
   ]
  },
  {
   "cell_type": "code",
   "execution_count": null,
   "id": "8a7a9cf2",
   "metadata": {},
   "outputs": [],
   "source": [
    "#Composition specifications:\n",
    "\n",
    "S1 = np.array([1,1.854,0.48,0.095,0.036,0.016])\n",
    "S2 = np.array([1,1.75,0.59,0.125,0.005825,0.00172])\n",
    "S3 = np.array([1,1.46,0.6,0.02,0.0025,0.0023])\n",
    "S4 = np.array([1,1.7,0.75,0.02,0.0275,0.00118])\n",
    "S5 = np.array([1,1.8,0.5,0.08,0.02,0])\n",
    "S6 = np.array([1,1.7,0.55,0.13,0.02,0])"
   ]
  }
 ],
 "metadata": {
  "kernelspec": {
   "display_name": "Python 3 (ipykernel)",
   "language": "python",
   "name": "python3"
  },
  "language_info": {
   "codemirror_mode": {
    "name": "ipython",
    "version": 3
   },
   "file_extension": ".py",
   "mimetype": "text/x-python",
   "name": "python",
   "nbconvert_exporter": "python",
   "pygments_lexer": "ipython3",
   "version": "3.10.9"
  }
 },
 "nbformat": 4,
 "nbformat_minor": 5
}
