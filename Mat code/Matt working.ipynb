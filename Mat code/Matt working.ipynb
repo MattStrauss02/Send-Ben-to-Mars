{
 "cells": [
  {
   "cell_type": "code",
   "execution_count": 19,
   "id": "77292cde",
   "metadata": {},
   "outputs": [],
   "source": [
    "import numpy as np"
   ]
  },
  {
   "cell_type": "code",
   "execution_count": 20,
   "id": "ce3a552a",
   "metadata": {},
   "outputs": [],
   "source": [
    "# List of key parameters\n",
    "\n",
    "\n",
    "\n",
    "\n",
    "mumax4=0.17 #1/day\n",
    "thetamax4=0.57 #molATP/cmolX/day in Unit4\n",
    "kla=20 #1/day\n",
    "Ks_mu4=0.002 #cmol/L\n",
    "Co_sat=7/1000/32 #mol/l\n",
    "Ko_mu4=Co_sat*0.15 #mol/L\n",
    "Ks_theta4=Ks_mu4/1e6 #cmol/L\n",
    "Ko_theta4=Ko_mu4/1e6 #mol/L\n",
    "Q1=1.5  #L"
   ]
  },
  {
   "cell_type": "code",
   "execution_count": 21,
   "id": "56379aab",
   "metadata": {},
   "outputs": [],
   "source": [
    "MM = np.array([12,1,16,14,31,23])"
   ]
  },
  {
   "cell_type": "code",
   "execution_count": 22,
   "id": "ef37266f",
   "metadata": {},
   "outputs": [],
   "source": [
    "#Composition specs 'C H1.854 O0.48 N0.095 P0.0036 Na0.0016'"
   ]
  },
  {
   "cell_type": "code",
   "execution_count": 23,
   "id": "3dfe9d32",
   "metadata": {},
   "outputs": [],
   "source": [
    "#Composition specifications:\n",
    "#order         C;   H;  O;  N;  P;  Na;   \n",
    "\n",
    "S1 = np.array([1,1.854,0.48,0.095,0.0036,0.0016])\n",
    "S2 = np.array([1,1.75,0.59,0.125,0.005825,0.00172])\n",
    "S3 = np.array([1,1.46,0.6,0.02,0.0025,0.0023])\n",
    "S4 = np.array([1,1.7,0.75,0.02,0.0275,0.00118])\n",
    "S5 = np.array([1,1.8,0.5,0.08,0.02,0])\n",
    "S6 = np.array([1,1.7,0.55,0.13,0.02,0])"
   ]
  },
  {
   "cell_type": "markdown",
   "id": "ad4945df",
   "metadata": {},
   "source": [
    "Calculating the amount of food Ben eats and all the NE's associated with this."
   ]
  },
  {
   "cell_type": "code",
   "execution_count": 24,
   "id": "59a9a928",
   "metadata": {},
   "outputs": [],
   "source": [
    "wetFractionFood = 0.6\n",
    "nonEdibleFraction = 0.6"
   ]
  },
  {
   "cell_type": "code",
   "execution_count": 49,
   "id": "0e26e493",
   "metadata": {},
   "outputs": [
    {
     "name": "stdout",
     "output_type": "stream",
     "text": [
      "Mass dry food per day = 423.09\n",
      "Mass wet food per day = 1057.73\n",
      "\n",
      "Mass dry non-edible food per day = 634.64\n",
      "Mass wet non-edible food per day = 1586.6\n",
      "\n",
      "Mass water in edible food per day = 634.64\n",
      "Mass water in non-edible food per day = 951.96\n"
     ]
    }
   ],
   "source": [
    "kiloJoulesRequired = 9000\n",
    "#                                     Prot, Fat, Carbs\n",
    "foodFractionsDryMassBasis = np.array([0.36,0.21,0.43])\n",
    "energyPerDryGramFoodGroup = np.array([17,38,17])\n",
    "energyPerDryGramFood = np.sum(foodFractionsDryMassBasis * energyPerDryGramFoodGroup)\n",
    "massChonDryFoodPerDay = kiloJoulesRequired / energyPerDryGramFood\n",
    "molsChonDryFoodPerDay = massChonDryFoodPerDay / (MM[0]*S1[0] + MM[1]*S1[1] + MM[2]*S1[2] + MM[3]*S1[3])\n",
    "massDryFoodPerDay = molsChonDryFoodPerDay * np.sum(MM*S1)\n",
    "\n",
    "massWetFoodPerDay = massDryFoodPerDay / (1 - wetFractionFood)\n",
    "\n",
    "massWaterInFoodPerDay = massWetFoodPerDay - massDryFoodPerDay\n",
    "\n",
    "massNonEdibleDryFoodPerDay = massDryFoodPerDay / (1 - nonEdibleFraction) * nonEdibleFraction\n",
    "\n",
    "massNonEdibleWetFoodPerDay = massNonEdibleDryFoodPerDay / (1 - wetFractionFood)\n",
    "\n",
    "massWaterInNonEdibleFoodPerDay = massNonEdibleWetFoodPerDay - massNonEdibleDryFoodPerDay\n",
    "\n",
    "print('Mass dry food per day =',np.round(massDryFoodPerDay,2))\n",
    "print('Mass wet food per day =',np.round(massWetFoodPerDay,2))\n",
    "\n",
    "print('\\nMass dry non-edible food per day =',np.round(massNonEdibleDryFoodPerDay,2))\n",
    "print('Mass wet non-edible food per day =',np.round(massNonEdibleWetFoodPerDay,2))\n",
    "\n",
    "print('\\nMass water in edible food per day =',np.round(massWaterInFoodPerDay,2))\n",
    "print('Mass water in non-edible food per day =',np.round(massWaterInNonEdibleFoodPerDay,2))"
   ]
  },
  {
   "cell_type": "code",
   "execution_count": 28,
   "id": "c7f9e848",
   "metadata": {},
   "outputs": [
    {
     "name": "stdout",
     "output_type": "stream",
     "text": [
      "Mols dry food per day = 18.385\n",
      "Mols dry non-edible food per day = 27.04\n"
     ]
    }
   ],
   "source": [
    "molsDryFoodPerDay = molsChonDryFoodPerDay\n",
    "molsNonEdibleDryFoodPerDay = massNonEdibleDryFoodPerDay / np.sum(MM * S3)\n",
    "\n",
    "print('Mols dry food per day =',np.round(molsDryFoodPerDay,3))\n",
    "print('Mols dry non-edible food per day =',np.round(molsNonEdibleDryFoodPerDay,3))"
   ]
  },
  {
   "cell_type": "markdown",
   "id": "d6ccd9be",
   "metadata": {},
   "source": [
    "Solving the Hydroponics unit:"
   ]
  },
  {
   "cell_type": "code",
   "execution_count": 32,
   "id": "1f6fd923",
   "metadata": {},
   "outputs": [
    {
     "name": "stdout",
     "output_type": "stream",
     "text": [
      "[[ -0.13378747]\n",
      " [ -0.09160862]\n",
      " [ -2.30580016]\n",
      " [-33.31457732]\n",
      " [-45.42539987]\n",
      " [ 49.56738668]\n",
      " [ 18.38542319]\n",
      " [ 27.03997669]]\n"
     ]
    }
   ],
   "source": [
    "#                               P    Na   NH3   H2O   CO2   O2   S1      S3\n",
    "hydroponicsMatrixA=np.matrix([[0,   0,   0,    0,    1,    0,   1,       1     ],  #C\n",
    "                              [0,   0,   3,    2,    0,    0,   1.853 ,  1.46  ],  #H\n",
    "                              [0,   0,   0,    1,    2,    2,   0.479 ,  0.6   ],  #O\n",
    "                              [0,   0,   1,    0,    0,    0,   0.096 ,  0.02  ],  #N\n",
    "                              [1,   0,   0,    0,    0,    0,   0.0036,  0.0025],  #P\n",
    "                              [0,   1,   0,    0,    0,    0,   0.0016,  0.0023],  #Na\n",
    "                              [0,   0,   0,    0,    0,    0,   1,       0     ],  #S1 fed to ben\n",
    "                              [0,   0,   0,    0,    0,    0,   0,       1     ]]) #S2 non edible food\n",
    "\n",
    "hydroponicsMatrixB=np.matrix([0, 0, 0, 0, 0, 0, molsDryFoodPerDay, molsNonEdibleDryFoodPerDay ]).T\n",
    "\n",
    "hydroponicsRates=np.linalg.solve(hydroponicsMatrixA, hydroponicsMatrixB)\n",
    "\n",
    "U1RateP, U1RateNa, U1RateNH3, U1RateH2O, U1RateCO2, U1RateO2, U1RateS1, U1RateS3 = hydroponicsRates.flat\n",
    "\n",
    "print(hydroponicsRates)"
   ]
  },
  {
   "cell_type": "markdown",
   "id": "0377668d",
   "metadata": {},
   "source": [
    "Modelling the Urine:"
   ]
  },
  {
   "cell_type": "markdown",
   "id": "6b40976d",
   "metadata": {},
   "source": [
    "Urine can be modelled as 40g of urea exiting the body on a daily basis. Allow for a seperate P and Na stream in your unit 2 matrix and note that this should be added to the total urine stream. Ben produces 1.5 liter of urine a day. The urea in the urine will spontaneously undergo the following decomposition:\n",
    "\n",
    "$$CH_4ON_2 +H_2O \\to CO_2+2NH_3$$\n",
    "\n",
    "Ensure to calculate a $NH_3$ concentration in the urine."
   ]
  },
  {
   "cell_type": "code",
   "execution_count": 33,
   "id": "6a13fb37",
   "metadata": {},
   "outputs": [],
   "source": [
    "massUreaPerDay = 40\n",
    "molarMassUrea = 12 + 4 + 16 + 28\n",
    "molsUreaPerDay = massUreaPerDay / molarMassUrea"
   ]
  },
  {
   "cell_type": "markdown",
   "id": "4bd45d6b",
   "metadata": {},
   "source": [
    "Solving Ben's metabolism:"
   ]
  },
  {
   "cell_type": "code",
   "execution_count": 34,
   "id": "2a74789d",
   "metadata": {},
   "outputs": [
    {
     "name": "stdout",
     "output_type": "stream",
     "text": [
      "[[  0.04607183]\n",
      " [  0.02347694]\n",
      " [ 12.6790902 ]\n",
      " [ 14.26541818]\n",
      " [-17.55372257]\n",
      " [-18.38542319]\n",
      " [  3.45333834]\n",
      " [  0.66666667]]\n"
     ]
    }
   ],
   "source": [
    "#                      P    Na    H2O   CO2   O2   S1      S2     U\n",
    "benMatrixA=np.matrix([[0,   0,    0,    1,    0,   1,      S2[0], 1],  #C\n",
    "                      [0,   0,    2,    0,    0,   1.853 , S2[1], 4],  #H\n",
    "                      [0,   0,    1,    2,    2,   0.479 , S2[2], 1],  #O\n",
    "                      [0,   0,    0,    0,    0,   0.096 , S2[3], 2],  #N\n",
    "                      [1,   0,    0,    0,    0,   0.0036, S2[4], 0],  #P\n",
    "                      [0,   1,    0,    0,    0,   0.0016, S2[5], 0],  #Na\n",
    "                      [0,   0,    0,    0,    0,   1,      0,     0],  #S1 fed to ben\n",
    "                      [0,   0,    0,    0,    0,   0,      0,     1]]) #U leaving\n",
    "\n",
    "benMatrixB = np.matrix([0, 0, 0, 0, 0, 0, -molsDryFoodPerDay, molsUreaPerDay ]).T\n",
    "\n",
    "benRates = np.linalg.solve(benMatrixA, benMatrixB)\n",
    "\n",
    "U2RateP, U2RateNa, U2RateH2O, U2RateCO2, U2RateO2, U2RateS1, U2RateS2, U2RateU = benRates.flat\n",
    "\n",
    "print(benRates)"
   ]
  },
  {
   "cell_type": "markdown",
   "id": "ba3a02e4",
   "metadata": {},
   "source": [
    "Anaerobic digester"
   ]
  },
  {
   "cell_type": "code",
   "execution_count": 39,
   "id": "96040d3a",
   "metadata": {},
   "outputs": [
    {
     "name": "stdout",
     "output_type": "stream",
     "text": [
      "Mass dry humanure = 86.88645885282592\n",
      "260.6593765584778\n"
     ]
    }
   ],
   "source": [
    "#Start by calculating the mass of humanure:\n",
    "waterFractionHumanure = 0.75\n",
    "molarMassHumanure = np.sum(MM * S2)\n",
    "molsDryHumanurePerDay = U2RateS2\n",
    "massDryHumanurePerDay = molsDryHumanurePerDay * molarMassHumanure\n",
    "print('Mass dry humanure =',massDryHumanurePerDay)\n",
    "\n",
    "massWaterInHumanure = massDryHumanurePerDay / (1 - waterFractionHumanure) * waterFractionHumanure\n",
    "print(massWaterInHumanure)"
   ]
  },
  {
   "cell_type": "code",
   "execution_count": 61,
   "id": "1aecd0b7",
   "metadata": {},
   "outputs": [
    {
     "name": "stdout",
     "output_type": "stream",
     "text": [
      "Substrate mols per element fed to Unit 3: [30.49 45.52 18.26  0.97  0.09  0.07]\n",
      "\n",
      "AD Substrate fed to unit 3 cmol formula: [1.     1.4928 0.5989 0.0319 0.0029 0.0022]\n",
      "\n",
      "Mass AD Substrate = 721.5255276646437\n"
     ]
    }
   ],
   "source": [
    "#Calculate the mass of Substrate and thus the required amount of water:\n",
    "substrateMolsPerElement = molsNonEdibleDryFoodPerDay * S3 + U2RateS2 * S2\n",
    "print('Substrate mols per element fed to Unit 3:',np.round(substrateMolsPerElement,2))\n",
    "U3S = substrateMolsPerElement / substrateMolsPerElement[0]      #This is the cmol formula for the AD substrate\n",
    "print('\\nAD Substrate fed to unit 3 cmol formula:',np.round(U3S,4))\n",
    "\n",
    "massADSubstrate = (molsNonEdibleDryFoodPerDay + U2RateS2) * np.sum(U3S * MM)\n",
    "print('\\nMass AD Substrate =',massADSubstrate)"
   ]
  },
  {
   "cell_type": "code",
   "execution_count": 67,
   "id": "b3c1796e",
   "metadata": {},
   "outputs": [
    {
     "name": "stdout",
     "output_type": "stream",
     "text": [
      "5.550196366651106\n",
      "The total water that needs to be added to the AD per day before considering the recycle is : 4.337578386874901\n"
     ]
    }
   ],
   "source": [
    "# Now calculate total water coming in via S2 and S3:\n",
    "totalWaterS2AndS3 = (massWaterInHumanure + massWaterInNonEdibleFoodPerDay) / 1000  #divide by 1000 to get L\n",
    "requiredADSubstrateConcentration = 130 #g/L\n",
    "requiredADTotalWater = massADSubstrate / requiredADSubstrateConcentration  #L\n",
    "waterAddedToADPerDayNoRecycle = requiredADTotalWater - totalWaterS2AndS3\n",
    "print(rorequiredADTotalWater)\n",
    "print('The total water that needs to be added to the AD per day before considering the recycle is :', waterAddedToADPerDayNoRecycle)"
   ]
  },
  {
   "cell_type": "code",
   "execution_count": 36,
   "id": "0b4d6964",
   "metadata": {},
   "outputs": [],
   "source": [
    "#Key parameters\n",
    "\n",
    "thetamax3=0.55 # Unit 3\n",
    "mumax3=0.07 #1/day\n",
    "Ks_mu3=0.04 #cmol/L\n",
    "Ks_theta3=0.008/1e6  #cmol/L\n",
    "Na_conc=300/1000/23 #mol/L (300mg/L in clean water)"
   ]
  },
  {
   "cell_type": "code",
   "execution_count": 37,
   "id": "f2f0889b",
   "metadata": {},
   "outputs": [],
   "source": []
  },
  {
   "cell_type": "code",
   "execution_count": null,
   "id": "ec3cf959",
   "metadata": {},
   "outputs": [],
   "source": []
  }
 ],
 "metadata": {
  "kernelspec": {
   "display_name": "Python 3 (ipykernel)",
   "language": "python",
   "name": "python3"
  },
  "language_info": {
   "codemirror_mode": {
    "name": "ipython",
    "version": 3
   },
   "file_extension": ".py",
   "mimetype": "text/x-python",
   "name": "python",
   "nbconvert_exporter": "python",
   "pygments_lexer": "ipython3",
   "version": "3.10.9"
  }
 },
 "nbformat": 4,
 "nbformat_minor": 5
}
