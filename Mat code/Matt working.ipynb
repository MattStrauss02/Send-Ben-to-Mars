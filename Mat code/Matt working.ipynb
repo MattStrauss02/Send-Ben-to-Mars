{
 "cells": [
  {
   "cell_type": "code",
   "execution_count": 58,
   "id": "77292cde",
   "metadata": {},
   "outputs": [],
   "source": [
    "import numpy as np"
   ]
  },
  {
   "cell_type": "code",
   "execution_count": 59,
   "id": "ce3a552a",
   "metadata": {},
   "outputs": [],
   "source": [
    "# List of key parameters\n",
    "\n",
    "\n",
    "\n",
    "\n",
    "mumax4=0.17 #1/day\n",
    "thetamax4=0.57 #molATP/cmolX/day in Unit4\n",
    "kla=20 #1/day\n",
    "Ks_mu4=0.002 #cmol/L\n",
    "Co_sat=7/1000/32 #mol/l\n",
    "Ko_mu4=Co_sat*0.15 #mol/L\n",
    "Ks_theta4=Ks_mu4/1e6 #cmol/L\n",
    "Ko_theta4=Ko_mu4/1e6 #mol/L\n",
    "Q1=1.5  #L"
   ]
  },
  {
   "cell_type": "code",
   "execution_count": 60,
   "id": "56379aab",
   "metadata": {},
   "outputs": [],
   "source": [
    "MM = np.array([12,1,16,14,31,23])"
   ]
  },
  {
   "cell_type": "code",
   "execution_count": 61,
   "id": "ef37266f",
   "metadata": {},
   "outputs": [],
   "source": [
    "#Composition specs 'C H1.854 O0.48 N0.095 P0.0036 Na0.0016'"
   ]
  },
  {
   "cell_type": "code",
   "execution_count": 62,
   "id": "3dfe9d32",
   "metadata": {},
   "outputs": [],
   "source": [
    "#Composition specifications:\n",
    "#order         C;   H;  O;  N;  P;  Na;   \n",
    "\n",
    "S1 = np.array([1,1.854,0.48,0.095,0.0036,0.0016])\n",
    "S2 = np.array([1,1.75,0.59,0.125,0.005825,0.00172])\n",
    "S3 = np.array([1,1.46,0.6,0.02,0.0025,0.0023])\n",
    "S4 = X4 = np.array([1,1.7,0.55,0.13,0.02,0])\n",
    "S5 = np.array([1,1.7,0.75,0.02,0.00275,0.00118])\n",
    "X3 = np.array([1,1.8,0.5,0.08,0.02,0])"
   ]
  },
  {
   "attachments": {},
   "cell_type": "markdown",
   "id": "ad4945df",
   "metadata": {},
   "source": [
    "Calculating the amount of food Ben eats and all the NE's associated with this."
   ]
  },
  {
   "cell_type": "code",
   "execution_count": 63,
   "id": "59a9a928",
   "metadata": {},
   "outputs": [],
   "source": [
    "wetFractionFood = 0.6\n",
    "nonEdibleFraction = 0.6"
   ]
  },
  {
   "cell_type": "code",
   "execution_count": 64,
   "id": "0e26e493",
   "metadata": {},
   "outputs": [
    {
     "name": "stdout",
     "output_type": "stream",
     "text": [
      "Mass dry food per day = 423.09\n",
      "Mass wet food per day = 1057.73\n",
      "\n",
      "Mass dry non-edible food per day = 634.64\n",
      "Mass wet non-edible food per day = 1586.6\n",
      "\n",
      "Mass water in edible food per day = 634.64\n",
      "Mass water in non-edible food per day = 951.96\n"
     ]
    }
   ],
   "source": [
    "kiloJoulesRequired = 9000\n",
    "#                                     Prot, Fat, Carbs\n",
    "foodFractionsDryMassBasis = np.array([0.36,0.21,0.43])\n",
    "energyPerDryGramFoodGroup = np.array([17,38,17])\n",
    "energyPerDryGramFood = np.sum(foodFractionsDryMassBasis * energyPerDryGramFoodGroup)\n",
    "massChonDryFoodPerDay = kiloJoulesRequired / energyPerDryGramFood\n",
    "molsChonDryFoodPerDay = massChonDryFoodPerDay / (MM[0]*S1[0] + MM[1]*S1[1] + MM[2]*S1[2] + MM[3]*S1[3])\n",
    "massDryFoodPerDay = molsChonDryFoodPerDay * np.sum(MM*S1)\n",
    "\n",
    "massWetFoodPerDay = massDryFoodPerDay / (1 - wetFractionFood)\n",
    "\n",
    "massWaterInFoodPerDay = massWetFoodPerDay - massDryFoodPerDay\n",
    "\n",
    "massNonEdibleDryFoodPerDay = massDryFoodPerDay / (1 - nonEdibleFraction) * nonEdibleFraction\n",
    "\n",
    "massNonEdibleWetFoodPerDay = massNonEdibleDryFoodPerDay / (1 - wetFractionFood)\n",
    "\n",
    "massWaterInNonEdibleFoodPerDay = massNonEdibleWetFoodPerDay - massNonEdibleDryFoodPerDay\n",
    "\n",
    "print('Mass dry food per day =',np.round(massDryFoodPerDay,2))\n",
    "print('Mass wet food per day =',np.round(massWetFoodPerDay,2))\n",
    "\n",
    "print('\\nMass dry non-edible food per day =',np.round(massNonEdibleDryFoodPerDay,2))\n",
    "print('Mass wet non-edible food per day =',np.round(massNonEdibleWetFoodPerDay,2))\n",
    "\n",
    "print('\\nMass water in edible food per day =',np.round(massWaterInFoodPerDay,2))\n",
    "print('Mass water in non-edible food per day =',np.round(massWaterInNonEdibleFoodPerDay,2))"
   ]
  },
  {
   "cell_type": "code",
   "execution_count": 65,
   "id": "c7f9e848",
   "metadata": {},
   "outputs": [
    {
     "name": "stdout",
     "output_type": "stream",
     "text": [
      "Mols dry food per day = 18.385\n",
      "Mols dry non-edible food per day = 27.04\n"
     ]
    }
   ],
   "source": [
    "molsDryFoodPerDay = molsChonDryFoodPerDay\n",
    "molsNonEdibleDryFoodPerDay = massNonEdibleDryFoodPerDay / np.sum(MM * S3)\n",
    "\n",
    "print('Mols dry food per day =',np.round(molsDryFoodPerDay,3))\n",
    "print('Mols dry non-edible food per day =',np.round(molsNonEdibleDryFoodPerDay,3))"
   ]
  },
  {
   "attachments": {},
   "cell_type": "markdown",
   "id": "d6ccd9be",
   "metadata": {},
   "source": [
    "Solving the Hydroponics unit:"
   ]
  },
  {
   "cell_type": "code",
   "execution_count": 66,
   "id": "1f6fd923",
   "metadata": {},
   "outputs": [
    {
     "name": "stdout",
     "output_type": "stream",
     "text": [
      "[[ -0.13378747]\n",
      " [ -0.09160862]\n",
      " [ -2.30580016]\n",
      " [-33.31457732]\n",
      " [-45.42539987]\n",
      " [ 49.56738668]\n",
      " [ 18.38542319]\n",
      " [ 27.03997669]]\n"
     ]
    }
   ],
   "source": [
    "#                               P    Na   NH3   H2O   CO2   O2   S1      S3\n",
    "hydroponicsMatrixA=np.matrix([[0,   0,   0,    0,    1,    0,   1,       1     ],  #C\n",
    "                              [0,   0,   3,    2,    0,    0,   1.853 ,  1.46  ],  #H\n",
    "                              [0,   0,   0,    1,    2,    2,   0.479 ,  0.6   ],  #O\n",
    "                              [0,   0,   1,    0,    0,    0,   0.096 ,  0.02  ],  #N\n",
    "                              [1,   0,   0,    0,    0,    0,   0.0036,  0.0025],  #P\n",
    "                              [0,   1,   0,    0,    0,    0,   0.0016,  0.0023],  #Na\n",
    "                              [0,   0,   0,    0,    0,    0,   1,       0     ],  #S1 fed to ben\n",
    "                              [0,   0,   0,    0,    0,    0,   0,       1     ]]) #S2 non edible food\n",
    "\n",
    "hydroponicsMatrixB=np.matrix([0, 0, 0, 0, 0, 0, molsDryFoodPerDay, molsNonEdibleDryFoodPerDay ]).T\n",
    "\n",
    "hydroponicsRates=np.linalg.solve(hydroponicsMatrixA, hydroponicsMatrixB)\n",
    "\n",
    "U1RateP, U1RateNa, U1RateNH3, U1RateH2O, U1RateCO2, U1RateO2, U1RateS1, U1RateS3 = hydroponicsRates.flat\n",
    "\n",
    "print(hydroponicsRates)"
   ]
  },
  {
   "attachments": {},
   "cell_type": "markdown",
   "id": "0377668d",
   "metadata": {},
   "source": [
    "Modelling the Urine:"
   ]
  },
  {
   "attachments": {},
   "cell_type": "markdown",
   "id": "6b40976d",
   "metadata": {},
   "source": [
    "Urine can be modelled as 40g of urea exiting the body on a daily basis. Allow for a seperate P and Na stream in your unit 2 matrix and note that this should be added to the total urine stream. Ben produces 1.5 liter of urine a day. The urea in the urine will spontaneously undergo the following decomposition:\n",
    "\n",
    "$$CH_4ON_2 +H_2O \\to CO_2+2NH_3$$\n",
    "\n",
    "Ensure to calculate a $NH_3$ concentration in the urine."
   ]
  },
  {
   "cell_type": "code",
   "execution_count": 67,
   "id": "6a13fb37",
   "metadata": {},
   "outputs": [],
   "source": [
    "massUreaPerDay = 40\n",
    "molarMassUrea = 12 + 4 + 16 + 28\n",
    "molsUreaPerDay = massUreaPerDay / molarMassUrea"
   ]
  },
  {
   "attachments": {},
   "cell_type": "markdown",
   "id": "4bd45d6b",
   "metadata": {},
   "source": [
    "Solving Ben's metabolism:"
   ]
  },
  {
   "cell_type": "code",
   "execution_count": 68,
   "id": "2a74789d",
   "metadata": {},
   "outputs": [
    {
     "name": "stdout",
     "output_type": "stream",
     "text": [
      "[[  0.04607183]\n",
      " [  0.02347694]\n",
      " [ 12.6790902 ]\n",
      " [ 14.26541818]\n",
      " [-17.55372257]\n",
      " [-18.38542319]\n",
      " [  3.45333834]\n",
      " [  0.66666667]]\n"
     ]
    }
   ],
   "source": [
    "#                      P    Na    H2O   CO2   O2   S1      S2     U\n",
    "benMatrixA=np.matrix([[0,   0,    0,    1,    0,   1,      S2[0], 1],  #C\n",
    "                      [0,   0,    2,    0,    0,   1.853 , S2[1], 4],  #H\n",
    "                      [0,   0,    1,    2,    2,   0.479 , S2[2], 1],  #O\n",
    "                      [0,   0,    0,    0,    0,   0.096 , S2[3], 2],  #N\n",
    "                      [1,   0,    0,    0,    0,   0.0036, S2[4], 0],  #P\n",
    "                      [0,   1,    0,    0,    0,   0.0016, S2[5], 0],  #Na\n",
    "                      [0,   0,    0,    0,    0,   1,      0,     0],  #S1 fed to ben\n",
    "                      [0,   0,    0,    0,    0,   0,      0,     1]]) #U leaving\n",
    "\n",
    "benMatrixB = np.matrix([0, 0, 0, 0, 0, 0, -molsDryFoodPerDay, molsUreaPerDay ]).T\n",
    "\n",
    "benRates = np.linalg.solve(benMatrixA, benMatrixB)\n",
    "\n",
    "U2RateP, U2RateNa, U2RateH2O, U2RateCO2, U2RateO2, U2RateS1, U2RateS2, U2RateU = benRates.flat\n",
    "\n",
    "print(benRates)"
   ]
  },
  {
   "attachments": {},
   "cell_type": "markdown",
   "id": "389f3bb4",
   "metadata": {},
   "source": [
    "Anaerobic digester"
   ]
  },
  {
   "cell_type": "code",
   "execution_count": 69,
   "id": "7eea68d9",
   "metadata": {},
   "outputs": [
    {
     "name": "stdout",
     "output_type": "stream",
     "text": [
      "Mass dry humanure = 86.88645885282592\n",
      "260.6593765584778\n"
     ]
    }
   ],
   "source": [
    "#Start by calculating the mass of humanure:\n",
    "waterFractionHumanure = 0.75\n",
    "molarMassHumanure = np.sum(MM * S2)\n",
    "molsDryHumanurePerDay = U2RateS2\n",
    "massDryHumanurePerDay = molsDryHumanurePerDay * molarMassHumanure\n",
    "print('Mass dry humanure =',massDryHumanurePerDay)\n",
    "\n",
    "massWaterInHumanure = massDryHumanurePerDay / (1 - waterFractionHumanure) * waterFractionHumanure\n",
    "print(massWaterInHumanure)"
   ]
  },
  {
   "cell_type": "code",
   "execution_count": 96,
   "id": "e6399c95",
   "metadata": {},
   "outputs": [
    {
     "name": "stdout",
     "output_type": "stream",
     "text": [
      "Substrate mols per element fed to Unit 3: [30.56 45.64 18.3   0.98  0.09  0.07]\n",
      "\n",
      "AD Substrate fed to unit 3 cmol formula: [1.     1.4933 0.5988 0.0321 0.0029 0.0022]\n",
      "\n",
      "Mols AD substrate into unit 3 = 30.5608150267363\n",
      "\n",
      "Mass AD Substrate = 723.21\n"
     ]
    }
   ],
   "source": [
    "#Calculate the mass of Substrate and thus the required amount of water:\n",
    "guessS4 = 0.0675\n",
    "\n",
    "substrateMolsPerElement = molsNonEdibleDryFoodPerDay * S3 + U2RateS2 * S2 + guessS4 * S4\n",
    "print('Substrate mols per element fed to Unit 3:',np.round(substrateMolsPerElement,2))\n",
    "\n",
    "U3S = substrateMolsPerElement / substrateMolsPerElement[0]      #This is the cmol formula for the AD substrate\n",
    "print('\\nAD Substrate fed to unit 3 cmol formula:',np.round(U3S,4))\n",
    "\n",
    "molsADSubstrateUnit3 = molsNonEdibleDryFoodPerDay + U2RateS2 + guessS4\n",
    "print('\\nMols AD substrate into unit 3 =',molsADSubstrateUnit3)\n",
    "\n",
    "massADSubstrateUnit3 = molsADSubstrateUnit3 * np.sum(U3S * MM)\n",
    "print('\\nMass AD Substrate =',round(massADSubstrateUnit3,2))\n",
    "\n"
   ]
  },
  {
   "cell_type": "code",
   "execution_count": 97,
   "id": "cd4fe7c3",
   "metadata": {},
   "outputs": [
    {
     "name": "stdout",
     "output_type": "stream",
     "text": [
      "5.5631\n",
      "The total water that needs to be added to the AD per day before considering the recycle is : 4.351\n"
     ]
    }
   ],
   "source": [
    "# Now calculate total water coming in via S2 and S3:\n",
    "totalWaterS2AndS3 = (massWaterInHumanure + massWaterInNonEdibleFoodPerDay) / 1000  #divide by 1000 to get L\n",
    "requiredADSubstrateConcentration = 130 #g/L\n",
    "requiredADTotalWater = massADSubstrateUnit3 / requiredADSubstrateConcentration  #L\n",
    "waterAddedToADPerDayNoRecycle = requiredADTotalWater - totalWaterS2AndS3\n",
    "print(round(requiredADTotalWater,4))\n",
    "print('The total water that needs to be added to the AD per day before considering the recycle is :', round(waterAddedToADPerDayNoRecycle,3))"
   ]
  },
  {
   "cell_type": "code",
   "execution_count": 87,
   "id": "15e6dda3",
   "metadata": {},
   "outputs": [],
   "source": [
    "#Key parameters\n",
    "\n",
    "thetamax3=0.55 # Unit 3\n",
    "mumax3=0.07 #1/day\n",
    "Ks_mu3=0.04 #cmol/L\n",
    "Ks_theta3=0.008/1e6  #cmol/L\n",
    "Na_conc=300/1000/23 #mol/L (300mg/L in clean water)\n",
    "Vguess3 = 2 #L"
   ]
  },
  {
   "cell_type": "code",
   "execution_count": 73,
   "id": "dc9d9b03",
   "metadata": {},
   "outputs": [],
   "source": [
    "#                        S       X        CH4   CO2   NH3   H2O     Na    P     R\n",
    "unit3MatrixA=np.matrix([[U3S[0], X4[0],    1,    1,    0,   0,      0,    0,    S5[0]],    #C\n",
    "                        [U3S[1], X4[1],    4,    0,    3,   2,      0,    0,    S5[1]],    #H\n",
    "                        [U3S[2], X4[2],    0,    2,    0,   1,      0,    0,    S5[2]],    #O\n",
    "                        [U3S[3], X4[3],    0,    0,    1,   0,      0,    0,    S5[3]],    #N\n",
    "                        [U3S[4], X4[4],    0,    0,    0,   0,      0,    1,    S5[4]],    #P\n",
    "                        [U3S[5], X4[5],    0,    0,    0,   0,      1,    0,    S5[5]],    #Na\n",
    "                        [-0.35,  -1.8,     0,    0,    0,   0,      0,    0,    0    ],    #ATP\n",
    "                        [0,      1,        0,    0,    0,   0,      0,    0,    0    ],    #mu\n",
    "                        [0.18,   0,        0,    0,    0,   0,      0,    0,    1    ]])   #S to R ratio"
   ]
  },
  {
   "cell_type": "code",
   "execution_count": 74,
   "id": "ba2be099",
   "metadata": {},
   "outputs": [],
   "source": [
    "Cf3 = [requiredADSubstrateConcentration/np.sum(U3S*MM),0,0,0,0,0,Na_conc*waterAddedToADPerDayNoRecycle/requiredADTotalWater,0,0]\n",
    "Q3 = requiredADTotalWater\n",
    "D3 = Q3 / Vguess3\n",
    "\n",
    "def response_fun_unit3(C):\n",
    "    \n",
    "    Cs, Cx = C[0],C[1]\n",
    "    \n",
    "    mu= mumax3*Cs/(Ks_mu3+Cs)\n",
    "    theta=thetamax3*Cs/(Ks_theta3+Cs)\n",
    "\n",
    "    C1_unit3 = np.matrix([[0,0,0,0,0,0,theta,mu,0]]).T  #Growth rate specified\n",
    "\n",
    "    r1_unit3 = np.linalg.solve(unit3MatrixA,C1_unit3)\n",
    "    \n",
    "    return [r1_unit3[0,0],   # rs\n",
    "            r1_unit3[1,0],   # rx\n",
    "            r1_unit3[2,0],   # rch4\n",
    "            r1_unit3[3,0],   # rco2\n",
    "            r1_unit3[4,0],   # rnh3\n",
    "            r1_unit3[5,0],   # rh2o\n",
    "            r1_unit3[6,0],   # rna\n",
    "            r1_unit3[7,0],   # rp\n",
    "            r1_unit3[8,0],]  # rr\n",
    "\n",
    "def ferm_eq_ss_unit3(C):\n",
    "    \n",
    "    Cs, Cx, Cch4, Cco2, Cnh3, Ch2o, Cna, Cp, Cr = C[0],C[1],C[2]  # order of components very important \n",
    "    \n",
    "    r=response_fun_unit3([Cs, Cx,])      # this is the 'fetching' from the response function\n",
    "    \n",
    "    dcsdt=D3*(Cf3[0]-C[0]) +  r[0]*Cx\n",
    "    dcxdt=D3*(Cf3[1]-C[1]) +  r[1]*Cx\n",
    "    dcndt=D3*(Cf3[2]-C[2]) +  r[4]*Cx\n",
    "    \n",
    "\n",
    "    return [dcsdt,\n",
    "            dcxdt,    \n",
    "            dcndt] "
   ]
  },
  {
   "cell_type": "code",
   "execution_count": 75,
   "id": "4063d163",
   "metadata": {},
   "outputs": [
    {
     "ename": "NameError",
     "evalue": "name 'calculate_S4' is not defined",
     "output_type": "error",
     "traceback": [
      "\u001b[0;31m---------------------------------------------------------------------------\u001b[0m",
      "\u001b[0;31mNameError\u001b[0m                                 Traceback (most recent call last)",
      "Cell \u001b[0;32mIn[75], line 6\u001b[0m\n\u001b[1;32m      2\u001b[0m firstGuessS4 \u001b[39m=\u001b[39m \u001b[39m0.0\u001b[39m  \u001b[39m# Initial value of S4\u001b[39;00m\n\u001b[1;32m      4\u001b[0m \u001b[39mwhile\u001b[39;00m err \u001b[39m>\u001b[39m\u001b[39m=\u001b[39m \u001b[39m10e-12\u001b[39m:\n\u001b[1;32m      5\u001b[0m     \u001b[39m# Calculate S4 using another method\u001b[39;00m\n\u001b[0;32m----> 6\u001b[0m     calculated_S4 \u001b[39m=\u001b[39m calculate_S4()  \u001b[39m# Replace with your own calculation method\u001b[39;00m\n\u001b[1;32m      8\u001b[0m     err \u001b[39m=\u001b[39m \u001b[39mabs\u001b[39m(S4 \u001b[39m-\u001b[39m calculated_S4)  \u001b[39m# Calculate the error\u001b[39;00m\n\u001b[1;32m     10\u001b[0m     S4 \u001b[39m=\u001b[39m calculated_S4\n",
      "\u001b[0;31mNameError\u001b[0m: name 'calculate_S4' is not defined"
     ]
    }
   ],
   "source": [
    "err = 1.0  # Initial error value\n",
    "firstGuessS4 = 0.0  # Initial value of S4\n",
    "\n",
    "while err >= 10e-12:\n",
    "    # Calculate S4 using another method\n",
    "    calculated_S4 = calculate_S4()  # Replace with your own calculation method\n",
    "\n",
    "    err = abs(S4 - calculated_S4)  # Calculate the error\n",
    "\n",
    "    S4 = calculated_S4  # Update S4\n",
    "\n",
    "# The loop will exit once the error is less than 10e-12\n"
   ]
  },
  {
   "cell_type": "code",
   "execution_count": null,
   "id": "a51a583b",
   "metadata": {},
   "outputs": [],
   "source": []
  }
 ],
 "metadata": {
  "kernelspec": {
   "display_name": "Python 3 (ipykernel)",
   "language": "python",
   "name": "python3"
  },
  "language_info": {
   "codemirror_mode": {
    "name": "ipython",
    "version": 3
   },
   "file_extension": ".py",
   "mimetype": "text/x-python",
   "name": "python",
   "nbconvert_exporter": "python",
   "pygments_lexer": "ipython3",
   "version": "3.10.9"
  }
 },
 "nbformat": 4,
 "nbformat_minor": 5
}
