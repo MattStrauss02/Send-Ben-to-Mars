{
 "cells": [
  {
   "cell_type": "code",
   "execution_count": 316,
   "id": "77292cde",
   "metadata": {},
   "outputs": [],
   "source": [
    "import numpy as np\n",
    "from scipy.optimize import fsolve"
   ]
  },
  {
   "cell_type": "code",
   "execution_count": 317,
   "id": "ce3a552a",
   "metadata": {},
   "outputs": [],
   "source": [
    "# List of key parameters\n",
    "\n",
    "\n",
    "\n",
    "\n",
    "mumax4=0.17 #1/day\n",
    "thetamax4=0.57 #molATP/cmolX/day in Unit4\n",
    "kla=20 #1/day\n",
    "Ks_mu4=0.002 #cmol/L\n",
    "Co_sat=7/1000/32 #mol/l\n",
    "Ko_mu4=Co_sat*0.15 #mol/L\n",
    "Ks_theta4=Ks_mu4/1e6 #cmol/L\n",
    "Ko_theta4=Ko_mu4/1e6 #mol/L\n",
    "Q1=1.5  #L"
   ]
  },
  {
   "cell_type": "code",
   "execution_count": 318,
   "id": "56379aab",
   "metadata": {},
   "outputs": [],
   "source": [
    "MM = np.array([12,1,16,14,31,23])"
   ]
  },
  {
   "cell_type": "code",
   "execution_count": 319,
   "id": "ef37266f",
   "metadata": {},
   "outputs": [],
   "source": [
    "#Composition specs 'C H1.854 O0.48 N0.095 P0.0036 Na0.0016'"
   ]
  },
  {
   "cell_type": "code",
   "execution_count": 320,
   "id": "3dfe9d32",
   "metadata": {},
   "outputs": [],
   "source": [
    "#Composition specifications:\n",
    "#order         C;   H;  O;  N;  P;  Na;   \n",
    "\n",
    "S1 = np.array([1,1.854,0.48,0.095,0.0036,0.0016])\n",
    "S2 = np.array([1,1.75,0.59,0.125,0.005825,0.00172])\n",
    "S3 = np.array([1,1.46,0.6,0.02,0.0025,0.0023])\n",
    "S4 = X4 = np.array([1,1.7,0.55,0.13,0.02,0])\n",
    "S5 = np.array([1,1.7,0.75,0.02,0.00275,0.00118])\n",
    "X3 = np.array([1,1.8,0.5,0.08,0.02,0])"
   ]
  },
  {
   "attachments": {},
   "cell_type": "markdown",
   "id": "ad4945df",
   "metadata": {},
   "source": [
    "Calculating the amount of food Ben eats and all the NE's associated with this."
   ]
  },
  {
   "cell_type": "code",
   "execution_count": 321,
   "id": "59a9a928",
   "metadata": {},
   "outputs": [],
   "source": [
    "wetFractionFood = 0.6\n",
    "nonEdibleFraction = 0.6"
   ]
  },
  {
   "cell_type": "code",
   "execution_count": 322,
   "id": "0e26e493",
   "metadata": {},
   "outputs": [
    {
     "name": "stdout",
     "output_type": "stream",
     "text": [
      "Mass dry food per day = 420.36\n",
      "Mass wet food per day = 1050.91\n",
      "\n",
      "Mass dry non-edible food per day = 630.55\n",
      "Mass wet non-edible food per day = 1576.37\n",
      "\n",
      "Mass water in edible food per day = 630.55\n",
      "Mass water in non-edible food per day = 945.82\n"
     ]
    }
   ],
   "source": [
    "kiloJoulesRequired = 9000\n",
    "#                                     Prot, Fat, Carbs\n",
    "foodFractionsDryMassBasis = np.array([0.36,0.21,0.43])\n",
    "energyPerDryGramFoodGroup = np.array([17,38,17])\n",
    "energyPerDryGramFood = np.sum(foodFractionsDryMassBasis * energyPerDryGramFoodGroup)\n",
    "massChonDryFoodPerDay = kiloJoulesRequired / energyPerDryGramFood\n",
    "molsChonDryFoodPerDay = massChonDryFoodPerDay / (MM[0]*S1[0] + MM[1]*S1[1] + MM[2]*S1[2] + MM[3]*S1[3])\n",
    "\n",
    "#massDryFoodPerDay = molsChonDryFoodPerDay * np.sum(MM*S1)\n",
    "\n",
    "massDryFoodPerDay = massChonDryFoodPerDay\n",
    "\n",
    "massWetFoodPerDay = massDryFoodPerDay / (1 - wetFractionFood)\n",
    "\n",
    "massWaterInFoodPerDay = massWetFoodPerDay - massDryFoodPerDay\n",
    "\n",
    "massNonEdibleDryFoodPerDay = massDryFoodPerDay / (1 - nonEdibleFraction) * nonEdibleFraction\n",
    "\n",
    "massNonEdibleWetFoodPerDay = massNonEdibleDryFoodPerDay / (1 - wetFractionFood)\n",
    "\n",
    "massWaterInNonEdibleFoodPerDay = massNonEdibleWetFoodPerDay - massNonEdibleDryFoodPerDay\n",
    "\n",
    "print('Mass dry food per day =',np.round(massDryFoodPerDay,2))\n",
    "print('Mass wet food per day =',np.round(massWetFoodPerDay,2))\n",
    "\n",
    "print('\\nMass dry non-edible food per day =',np.round(massNonEdibleDryFoodPerDay,2))\n",
    "print('Mass wet non-edible food per day =',np.round(massNonEdibleWetFoodPerDay,2))\n",
    "\n",
    "print('\\nMass water in edible food per day =',np.round(massWaterInFoodPerDay,2))\n",
    "print('Mass water in non-edible food per day =',np.round(massWaterInNonEdibleFoodPerDay,2))"
   ]
  },
  {
   "cell_type": "code",
   "execution_count": 323,
   "id": "c7f9e848",
   "metadata": {},
   "outputs": [
    {
     "name": "stdout",
     "output_type": "stream",
     "text": [
      "Mols dry food per day = 18.385\n",
      "Mols dry non-edible food per day = 26.866\n"
     ]
    }
   ],
   "source": [
    "molsDryFoodPerDay = molsChonDryFoodPerDay\n",
    "molsNonEdibleDryFoodPerDay = massNonEdibleDryFoodPerDay / np.sum(MM * S3)\n",
    "\n",
    "print('Mols dry food per day =',np.round(molsDryFoodPerDay,3))\n",
    "print('Mols dry non-edible food per day =',np.round(molsNonEdibleDryFoodPerDay,3))"
   ]
  },
  {
   "attachments": {},
   "cell_type": "markdown",
   "id": "d6ccd9be",
   "metadata": {},
   "source": [
    "Solving the Hydroponics unit:"
   ]
  },
  {
   "cell_type": "code",
   "execution_count": 324,
   "id": "1f6fd923",
   "metadata": {},
   "outputs": [
    {
     "name": "stdout",
     "output_type": "stream",
     "text": [
      "[[ -0.13335153]\n",
      " [ -0.09120757]\n",
      " [ -2.30231271]\n",
      " [-33.19251649]\n",
      " [-45.25102725]\n",
      " [ 49.38429542]\n",
      " [ 18.38542319]\n",
      " [ 26.86560406]]\n"
     ]
    }
   ],
   "source": [
    "#                              P    Na   NH3   H2O   CO2   O2   S1      S3\n",
    "hydroponicsMatrixA=np.matrix([[0,   0,   0,    0,    1,    0,   1,       1     ],  #C\n",
    "                              [0,   0,   3,    2,    0,    0,   1.853 ,  1.46  ],  #H\n",
    "                              [0,   0,   0,    1,    2,    2,   0.479 ,  0.6   ],  #O\n",
    "                              [0,   0,   1,    0,    0,    0,   0.096 ,  0.02  ],  #N\n",
    "                              [1,   0,   0,    0,    0,    0,   0.0036,  0.0025],  #P\n",
    "                              [0,   1,   0,    0,    0,    0,   0.0016,  0.0023],  #Na\n",
    "                              [0,   0,   0,    0,    0,    0,   1,       0     ],  #S1 fed to ben\n",
    "                              [0,   0,   0,    0,    0,    0,   0,       1     ]]) #S2 non edible food\n",
    "\n",
    "hydroponicsMatrixB=np.matrix([0, 0, 0, 0, 0, 0, molsDryFoodPerDay, molsNonEdibleDryFoodPerDay ]).T\n",
    "\n",
    "hydroponicsRates=np.linalg.solve(hydroponicsMatrixA, hydroponicsMatrixB)\n",
    "\n",
    "U1RateP, U1RateNa, U1RateNH3, U1RateH2O, U1RateCO2, U1RateO2, U1RateS1, U1RateS3 = hydroponicsRates.flat\n",
    "\n",
    "print(hydroponicsRates)"
   ]
  },
  {
   "attachments": {},
   "cell_type": "markdown",
   "id": "0377668d",
   "metadata": {},
   "source": [
    "Modelling the Urine:"
   ]
  },
  {
   "attachments": {},
   "cell_type": "markdown",
   "id": "6b40976d",
   "metadata": {},
   "source": [
    "Urine can be modelled as 40g of urea exiting the body on a daily basis. Allow for a seperate P and Na stream in your unit 2 matrix and note that this should be added to the total urine stream. Ben produces 1.5 liter of urine a day. The urea in the urine will spontaneously undergo the following decomposition:\n",
    "\n",
    "$$CH_4ON_2 +H_2O \\to CO_2+2NH_3$$\n",
    "\n",
    "Ensure to calculate a $NH_3$ concentration in the urine."
   ]
  },
  {
   "cell_type": "code",
   "execution_count": 325,
   "id": "6a13fb37",
   "metadata": {},
   "outputs": [],
   "source": [
    "massUreaPerDay = 40\n",
    "molarMassUrea = 12 + 4 + 16 + 28\n",
    "molsUreaPerDay = massUreaPerDay / molarMassUrea"
   ]
  },
  {
   "attachments": {},
   "cell_type": "markdown",
   "id": "4bd45d6b",
   "metadata": {},
   "source": [
    "Solving Ben's metabolism:"
   ]
  },
  {
   "cell_type": "code",
   "execution_count": 326,
   "id": "2a74789d",
   "metadata": {},
   "outputs": [
    {
     "name": "stdout",
     "output_type": "stream",
     "text": [
      "[[  0.04607183]\n",
      " [  0.02347694]\n",
      " [ 12.6790902 ]\n",
      " [ 14.26541818]\n",
      " [-17.55372257]\n",
      " [-18.38542319]\n",
      " [  3.45333834]\n",
      " [  0.66666667]]\n"
     ]
    }
   ],
   "source": [
    "#                      P    Na    H2O   CO2   O2   S1      S2     U\n",
    "benMatrixA=np.matrix([[0,   0,    0,    1,    0,   1,      S2[0], 1],  #C\n",
    "                      [0,   0,    2,    0,    0,   1.853 , S2[1], 4],  #H\n",
    "                      [0,   0,    1,    2,    2,   0.479 , S2[2], 1],  #O\n",
    "                      [0,   0,    0,    0,    0,   0.096 , S2[3], 2],  #N\n",
    "                      [1,   0,    0,    0,    0,   0.0036, S2[4], 0],  #P\n",
    "                      [0,   1,    0,    0,    0,   0.0016, S2[5], 0],  #Na\n",
    "                      [0,   0,    0,    0,    0,   1,      0,     0],  #S1 fed to ben\n",
    "                      [0,   0,    0,    0,    0,   0,      0,     1]]) #U leaving\n",
    "\n",
    "benMatrixB = np.matrix([0, 0, 0, 0, 0, 0, -molsDryFoodPerDay, molsUreaPerDay ]).T\n",
    "\n",
    "benRates = np.linalg.solve(benMatrixA, benMatrixB)\n",
    "\n",
    "U2RateP, U2RateNa, U2RateH2O, U2RateCO2, U2RateO2, U2RateS1, U2RateS2, U2RateU = benRates.flat\n",
    "\n",
    "print(benRates)"
   ]
  },
  {
   "attachments": {},
   "cell_type": "markdown",
   "id": "389f3bb4",
   "metadata": {},
   "source": [
    "Anaerobic digester"
   ]
  },
  {
   "cell_type": "code",
   "execution_count": 327,
   "id": "420392b8",
   "metadata": {},
   "outputs": [
    {
     "name": "stdout",
     "output_type": "stream",
     "text": [
      "\n",
      "AD Substrate fed to unit 3 cmol formula: [1.     1.4931 0.5988 0.032  0.0029 0.0022]\n",
      "\n",
      "Mols AD substrate into unit 3 = 30.32894240414122\n",
      "\n",
      "Mass AD Substrate = 717.68\n",
      "\n",
      "Total water required for the AD = 5.5206\n",
      "\n",
      "The total water that needs to be added to the AD per day before considering the recycle is : 4.314\n",
      "\n",
      "Aerobic Digester Substrate fed to unit 4 cmol formula: [1.0000e+00 1.7176e+00 5.2650e-01 6.7100e-02 1.5400e-02 6.0000e-04]\n",
      "\n",
      "Mols Aerobic Digester substrate into unit 4 = 0.1489859176730987\n",
      "\n",
      "Mass Aerobic Digester Substrate = 3.51\n",
      "\n",
      "Difference between X4 guess and X4 calc = -0.010158650793797757\n",
      "0.020158650793797757\n"
     ]
    }
   ],
   "source": [
    "#Anaerobic digester\n",
    "#Start by calculating the mass of humanure:\n",
    "waterFractionHumanure = 0.75\n",
    "molarMassHumanure = np.sum(MM * S2)\n",
    "molsDryHumanurePerDay = U2RateS2\n",
    "massDryHumanurePerDay = molsDryHumanurePerDay * molarMassHumanure\n",
    "#print('\\nMass dry humanure =',massDryHumanurePerDay)\n",
    "\n",
    "massWaterInHumanure = massDryHumanurePerDay / (1 - waterFractionHumanure) * waterFractionHumanure\n",
    "#print(massWaterInHumanure)\n",
    "\n",
    "#Calculate the mass of Substrate and thus the required amount of water:\n",
    "\n",
    "err = 1.0  # Initial error value\n",
    "guessS4 = 0.01  # Initial value of S4\n",
    "\n",
    "while err >= 1e-7:\n",
    "\n",
    "    substrate3MolsPerElement = molsNonEdibleDryFoodPerDay * S3 + U2RateS2 * S2 + guessS4 * S4\n",
    "    #print('\\nSubstrate mols per element fed to Unit 3:',np.round(substrate3MolsPerElement,2))\n",
    "\n",
    "    U3S = substrate3MolsPerElement / substrate3MolsPerElement[0]      #This is the cmol formula for the AD substrate\n",
    "    print('\\nAD Substrate fed to unit 3 cmol formula:',np.round(U3S,4))\n",
    "\n",
    "    molsADSubstrateUnit3 = molsNonEdibleDryFoodPerDay + U2RateS2 + guessS4\n",
    "    print('\\nMols AD substrate into unit 3 =',molsADSubstrateUnit3)\n",
    "\n",
    "    massADSubstrateUnit3 = molsADSubstrateUnit3 * np.sum(U3S * MM)\n",
    "    print('\\nMass AD Substrate =',round(massADSubstrateUnit3,2))\n",
    "\n",
    "\n",
    "    # Now calculate total water coming in via S2 and S3:\n",
    "    totalWaterS2AndS3 = (massWaterInHumanure + massWaterInNonEdibleFoodPerDay) / 1000  #divide by 1000 to get L\n",
    "    requiredADSubstrateConcentration = 130 #g/L\n",
    "    requiredADTotalWater = massADSubstrateUnit3 / requiredADSubstrateConcentration  #L\n",
    "    waterAddedToADPerDayNoRecycle = requiredADTotalWater - totalWaterS2AndS3\n",
    "    print('\\nTotal water required for the AD =',round(requiredADTotalWater,4))\n",
    "    print('\\nThe total water that needs to be added to the AD per day before considering the recycle is :', round(waterAddedToADPerDayNoRecycle,3))\n",
    "    \n",
    "    #Key parameters\n",
    "    thetamax3=0.55 # Unit 3\n",
    "    mumax3=0.07 #1/day\n",
    "    Ks_mu3=0.04 #cmol/L\n",
    "    Ks_theta3=0.008/1e6  #cmol/L\n",
    "    Na_conc=300/1000/23 #mol/L (300mg/L in clean water)\n",
    "    #                        S       X        CH4   CO2   NH3   H2O   Na    P     R\n",
    "    unit3MatrixA=np.matrix([[U3S[0], X3[0],    1,    1,    0,   0,    0,    0,    S5[0]],    #C\n",
    "                            [U3S[1], X3[1],    4,    0,    3,   2,    0,    0,    S5[1]],    #H\n",
    "                            [U3S[2], X3[2],    0,    2,    0,   1,    0,    0,    S5[2]],    #O\n",
    "                            [U3S[3], X3[3],    0,    0,    1,   0,    0,    0,    S5[3]],    #N\n",
    "                            [U3S[4], X3[4],    0,    0,    0,   0,    0,    1,    S5[4]],    #P\n",
    "                            [U3S[5], X3[5],    0,    0,    0,   0,    1,    0,    S5[5]],    #Na\n",
    "                            [-0.35,  -1.8,     0,    0,    0,   0,    0,    0,    0    ],    #ATP\n",
    "                            [0,      1,        0,    0,    0,   0,    0,    0,    0    ],    #mu\n",
    "                            [0.18,   0,        0,    0,    0,   0,    0,    0,    1    ]])   #S to R ratio\n",
    "    #                   0                                  1 2 3 4 5        6                                                   7 8\n",
    "    Cf3 = [requiredADSubstrateConcentration/np.sum(U3S*MM),0,0,0,0,0,Na_conc*waterAddedToADPerDayNoRecycle/requiredADTotalWater,0,0]\n",
    "    Q3 = requiredADTotalWater\n",
    "    D3 = 1.5/3*mumax3\n",
    "    V3 = Q3 / D3\n",
    "\n",
    "    def response_fun_unit3(C):\n",
    "\n",
    "        Cs, Cx = C[0],C[1]\n",
    "\n",
    "        mu= mumax3*Cs/(Ks_mu3+Cs)\n",
    "        theta=thetamax3*Cs/(Ks_theta3+Cs)\n",
    "\n",
    "        C1_unit3 = np.matrix([[0,0,0,0,0,0,theta,mu,0]]).T  #Growth rate specified\n",
    "\n",
    "        r1_unit3 = np.linalg.solve(unit3MatrixA,C1_unit3)\n",
    "\n",
    "        return [r1_unit3[0,0],   # rs\n",
    "                r1_unit3[1,0],   # rx\n",
    "                r1_unit3[2,0],   # rch4\n",
    "                r1_unit3[3,0],   # rco2\n",
    "                r1_unit3[4,0],   # rnh3\n",
    "                r1_unit3[5,0],   # rh2o\n",
    "                r1_unit3[6,0],   # rna\n",
    "                r1_unit3[7,0],   # rp\n",
    "                r1_unit3[8,0],]  # rr\n",
    "\n",
    "    def ferm_eq_ss_unit3(C):\n",
    "\n",
    "        Cs, Cx = C[0],C[1]\n",
    "\n",
    "        r=response_fun_unit3([Cs, Cx])      # this is the 'fetching' from the response function\n",
    "\n",
    "        dcsdt   = D3*(Cf3[0]-C[0]) + r[0]*Cx\n",
    "        dcxdt   = D3*(Cf3[1]-C[1]) + r[1]*Cx\n",
    "        dcnh3dt = D3*(Cf3[4]-C[2]) + r[4]*Cx\n",
    "        dcnadt  = D3*(Cf3[6]-C[3]) + r[6]*Cx\n",
    "        dcpdt   = D3*(Cf3[7]-C[4]) + r[7]*Cx\n",
    "        dcrdt   = D3*(Cf3[8]-C[5]) + r[8]*Cx\n",
    "\n",
    "        return [\n",
    "            dcsdt,  \n",
    "            dcxdt,  \n",
    "            dcnh3dt,\n",
    "            dcnadt, \n",
    "            dcpdt,  \n",
    "            dcrdt,  \n",
    "        ]\n",
    "\n",
    "    guess3 = [0.04, 0.11, 0.146, 0.021, 0.011, 0.98]\n",
    "    steadystate3=fsolve(ferm_eq_ss_unit3,guess3)\n",
    "    Cs3Final, Cx3Final, Cnh33Final, Cna3Final, Cp3Final, Cr3Final = steadystate3\n",
    "    #print(steadystate3)\n",
    "    #print(steadystate3[0] * np.sum(U3S*MM))\n",
    "    #print(response_fun_unit3([steadystate3[0], steadystate3[1]]))\n",
    "    \n",
    "    #Unit 4\n",
    "    mumax4=0.17 #1/day\n",
    "    thetamax4=0.57 #molATP/cmolX/day in Unit4\n",
    "    kla=20 #1/day\n",
    "    Ks_mu4=0.002 #cmol/L\n",
    "    Co_sat=7/1000/32 #mol/l\n",
    "    Ko_mu4=Co_sat*0.15 #mol/L\n",
    "    Ks_theta4=Ks_mu4/1e6 #cmol/L\n",
    "    Ko_theta4=Ko_mu4/1e6 #mol/L\n",
    "    Q1=1.5  #L\n",
    "\n",
    "\n",
    "    substrate4MolsPerElement = Cs3Final * U3S + Cx3Final * X3 \n",
    "    #print('\\nSubstrate mols per element fed to Unit 4:',np.round(substrate4MolsPerElement,3))\n",
    "\n",
    "    U4S = substrate4MolsPerElement / substrate4MolsPerElement[0]      #This is the cmol formula for the AD substrate\n",
    "    print('\\nAerobic Digester Substrate fed to unit 4 cmol formula:',np.round(U4S,4))\n",
    "\n",
    "    molsADSubstrateUnit4 = Cs3Final + Cx3Final\n",
    "    print('\\nMols Aerobic Digester substrate into unit 4 =',molsADSubstrateUnit4)\n",
    "\n",
    "    massADSubstrateUnit4 = molsADSubstrateUnit4 * np.sum(U4S * MM)\n",
    "    print('\\nMass Aerobic Digester Substrate =',round(massADSubstrateUnit4,2))\n",
    "    #                        S       O2,    X       CO2   NH3  H2O   Na    P    \n",
    "    unit4MatrixA=np.matrix([[U4S[0], 0,    X4[0],   1,    0,   0,    0,    0    ],    #C\n",
    "                            [U4S[1], 0,    X4[1],   0,    3,   2,    0,    0    ],    #H\n",
    "                            [U4S[2], 2,    X4[2],   2,    0,   1,    0,    0    ],    #O\n",
    "                            [U4S[3], 0,    X4[3],   0,    1,   0,    0,    0    ],    #N\n",
    "                            [U4S[4], 0,    X4[4],   0,    0,   0,    0,    1    ],    #P\n",
    "                            [U4S[5], 0,    X4[5],   0,    0,   0,    1,    0    ],    #Na\n",
    "                            [-3,     0,    -2.5,    0,    0,   0,    0,    0    ],    #ATP\n",
    "                            [0,      0,    1,       0,    0,   0,    0,    0    ]])   #mu\n",
    "    #           S               O     X  Co2 Nh3 H20  Na  P\n",
    "    Cf4 = [molsADSubstrateUnit4, Co_sat/2, 0, 0,  Cnh33Final,  0,  Cna3Final,  Cp3Final]\n",
    "\n",
    "    D4 = 0.588/3*mumax4\n",
    "\n",
    "    def response_fun_unit4(C):\n",
    "\n",
    "        Cs, Co = C[0],C[1]\n",
    "\n",
    "        mu4 = mumax4*Cs/(Ks_mu4+Cs)*(Co/(Ko_mu4+Co))\n",
    "        theta4 = thetamax4*Cs/(Ks_theta4+Cs)*(Co/(Ko_theta4+Co))\n",
    "\n",
    "        C1_unit4 = np.matrix([[0,0,0,0,0,0,theta4,mu4]]).T\n",
    "\n",
    "        r1 = np.linalg.solve(unit4MatrixA,C1_unit4)\n",
    "\n",
    "        return [r1[0,0],   # rs\n",
    "                r1[1,0],   # ro2\n",
    "                r1[2,0],   # rx\n",
    "                r1[3,0],   # rco2\n",
    "                r1[4,0],   # rnh3\n",
    "                r1[5,0],   # rh2o\n",
    "                r1[6,0],   # rna\n",
    "                r1[7,0]]   # rp\n",
    "\n",
    "    def ferm_eq_ss_unit4(C):\n",
    "\n",
    "        Cs, Co, Cx = C[0],C[1],C[2]\n",
    "\n",
    "        r=response_fun_unit4([Cs, Co])   \n",
    "\n",
    "        dcsdt  =r[0]*Cx + D4*(Cf4[0]-C[0])\n",
    "        dcodt  =r[1]*Cx + kla*(Co_sat-Co)\n",
    "        dcxdt  =r[2]*Cx + D4*(Cf4[2]-C[2])\n",
    "        dcnh3dt=r[4]*Cx + D4*(Cf4[4]-C[3])\n",
    "        dcnadt =r[6]*Cx + D4*(Cf4[6]-C[4])\n",
    "        dcpdt  =r[7]*Cx + D4*(Cf4[7]-C[5])\n",
    "\n",
    "        return [dcsdt,  \n",
    "                dcodt,  \n",
    "                dcxdt,  \n",
    "                dcnh3dt,\n",
    "                dcnadt,\n",
    "                dcpdt]\n",
    "\n",
    "    guess4=[0.09, 2.42e-5, 0.018, 0.15, 0.02, 0.01]\n",
    "    steadystate4=fsolve(ferm_eq_ss_unit4,guess4)\n",
    "\n",
    "    Cs4Final, Co4Final, Cx4Final, Cnh34Final, Cna4Final, Cp4Final = steadystate4\n",
    "    #print(steadystate4)\n",
    "    #print('\\nCnh3 = {}, Cp = {}, Cna = {}'.format(steadystate4[3]*17, steadystate4[4]*31, steadystate4[5]*23))\n",
    "\n",
    "    err = guessS4 - Cx4Final\n",
    "    print('\\nDifference between X4 guess and X4 calc =',err)\n",
    "    guessS4 = Cx4Final\n",
    "\n",
    "print(guessS4)\n"
   ]
  },
  {
   "attachments": {},
   "cell_type": "markdown",
   "id": "ff5afb29",
   "metadata": {},
   "source": [
    "Main results to check"
   ]
  },
  {
   "cell_type": "code",
   "execution_count": 328,
   "id": "36218f23",
   "metadata": {},
   "outputs": [
    {
     "name": "stdout",
     "output_type": "stream",
     "text": [
      "Total water required = 5.5206\n",
      "Expected: 5.514\n",
      "\n",
      "CNh3 in 3 = 146.1; CP in 3 = 10.9; CNa in 3 = 21.2\n",
      "Expected: CNh3 in 3 = 145.3; CP in 3 = 10.8; CNa in 3 = 21.8\n",
      "\n",
      "CNh3 in 4 = 153.5; CP in 4 = 12.7; CNa in 4 = 21.3\n",
      "Expected: CNh3 in 4 = 153; CP in 4 = 13; CNa in 4 = 21.3\n",
      "\n",
      "Mass of substrate leaving unit 4 = 0.4063336643683516\n",
      "\n",
      "Value of S4 0.020158650793797757\n",
      "[1.00000000e+00 1.71760277e+00 5.26538048e-01 6.71106914e-02\n",
      " 1.54047641e-02 5.99573774e-04]\n"
     ]
    }
   ],
   "source": [
    "print('Total water required =',round(requiredADTotalWater,4))\n",
    "print('Expected: 5.514')\n",
    "print('\\nCNh3 in 3 = {}; CP in 3 = {}; CNa in 3 = {}'.format(np.round(Cnh33Final*1000,1),np.round(Cp3Final*1000,1),np.round(Cna3Final*1000,1)))\n",
    "print('Expected: CNh3 in 3 = 145.3; CP in 3 = 10.8; CNa in 3 = 21.8')\n",
    "print('\\nCNh3 in 4 = {}; CP in 4 = {}; CNa in 4 = {}'.format(np.round(Cnh34Final*1000+Cs4Final*U4S[3]*1000,1),np.round(Cp4Final*1000+Cs4Final*U4S[4]*1000,1),np.round(Cna4Final*1000+Cs4Final*U4S[5]*1000,1)))\n",
    "print('Expected: CNh3 in 4 = 153; CP in 4 = 13; CNa in 4 = 21.3')\n",
    "print('\\nMass of substrate leaving unit 4 =',Cs4Final*np.sum(MM*U4S))\n",
    "print('\\nValue of S4',guessS4)\n",
    "print(U4S)"
   ]
  },
  {
   "cell_type": "code",
   "execution_count": 329,
   "id": "ab1a8237",
   "metadata": {},
   "outputs": [
    {
     "name": "stdout",
     "output_type": "stream",
     "text": [
      "0.03999999999999975 0.10898591767309897 0.146123060109952 0.021213887960274114 0.010851258922523555 0.9816737957656325\n",
      "0.017237176264129662 9.187045402730385e-06 0.020158650793797757 0.15234418462901586 0.02129288105039619 0.012477644182061536\n"
     ]
    }
   ],
   "source": [
    "print(Cs3Final, Cx3Final, Cnh33Final, Cna3Final, Cp3Final, Cr3Final)\n",
    "print(Cs4Final, Co4Final, Cx4Final, Cnh34Final, Cna4Final, Cp4Final)"
   ]
  },
  {
   "cell_type": "code",
   "execution_count": 330,
   "id": "3cd4473b",
   "metadata": {},
   "outputs": [],
   "source": [
    "#guess 3 values [0.04, 0.11, 0.146, 0.021, 0.011, 0.98]\n",
    "#guess 4 values [0.09, 2.42e-5, 0.018, 0.15, 0.02, 0.01]"
   ]
  },
  {
   "cell_type": "code",
   "execution_count": 331,
   "id": "eb2d911a",
   "metadata": {},
   "outputs": [
    {
     "name": "stdout",
     "output_type": "stream",
     "text": [
      "323.41765466994605\n"
     ]
    }
   ],
   "source": [
    "V3 = Q3/D3\n",
    "V4 = Q3/D4\n",
    "print(V3+V4)"
   ]
  },
  {
   "cell_type": "code",
   "execution_count": null,
   "id": "c0d9639c",
   "metadata": {},
   "outputs": [],
   "source": []
  }
 ],
 "metadata": {
  "kernelspec": {
   "display_name": "Python 3 (ipykernel)",
   "language": "python",
   "name": "python3"
  },
  "language_info": {
   "codemirror_mode": {
    "name": "ipython",
    "version": 3
   },
   "file_extension": ".py",
   "mimetype": "text/x-python",
   "name": "python",
   "nbconvert_exporter": "python",
   "pygments_lexer": "ipython3",
   "version": "3.10.9"
  }
 },
 "nbformat": 4,
 "nbformat_minor": 5
}
