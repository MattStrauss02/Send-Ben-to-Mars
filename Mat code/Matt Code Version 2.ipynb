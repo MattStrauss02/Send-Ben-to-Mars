{
 "cells": [
  {
   "attachments": {},
   "cell_type": "markdown",
   "metadata": {},
   "source": [
    "### Checkpoints\n",
    "\n",
    "S1=420.4 g/day\n",
    "\n",
    "H:C in food  1.8528 (mol basis)\n",
    "\n",
    "N:C in food  0.0957 (mol basis)\n",
    "\n",
    "Q3= Q4 = 5.514 l/day - make sure you get this when calculating unit 3 feed\n",
    "\n",
    "Numbers below will depend on on your digester volumes\n",
    "\n",
    "CNH3 (in Q3 before entering unit 4) - 145.3 mmol/L (for open system)\n",
    "\n",
    "CP (in Q3 before entering unit 4) - 10.8 mmol/L (for open system)\n",
    "\n",
    "CNa (in Q3 before entering unit 4) - 21.8 mmol/L (for open system)\n",
    "\n",
    "CNH3 (in Q4 before entering unit 5) - 153 mmol/L (for open system)\n",
    "\n",
    "CP (in Q4 before entering unit 5) - 13 mmol/L (for open system)\n",
    "\n",
    "CNa (in Q4 before entering unit 5) - 21.3 mmol/L (for open system)"
   ]
  },
  {
   "cell_type": "code",
   "execution_count": 686,
   "metadata": {},
   "outputs": [],
   "source": [
    "import numpy as np\n",
    "from scipy.optimize import fsolve\n",
    "import pandas as pd"
   ]
  },
  {
   "attachments": {},
   "cell_type": "markdown",
   "metadata": {},
   "source": [
    "### Section 1: Calculating food masses"
   ]
  },
  {
   "cell_type": "code",
   "execution_count": 687,
   "metadata": {},
   "outputs": [],
   "source": [
    "kilojoulesRequiredPerDay = 9000\n",
    "#       fat     carbs       protein\n",
    "foodMassFraction = np.array([0.21, 0.43, 0.36])\n",
    "energyPerFoodGroup = np.array([38, 17, 17])\n",
    "energyPerDryGramFood = np.sum(foodMassFraction*energyPerFoodGroup)\n",
    "massS1 = kilojoulesRequiredPerDay / energyPerDryGramFood"
   ]
  },
  {
   "cell_type": "code",
   "execution_count": 688,
   "metadata": {},
   "outputs": [
    {
     "name": "stdout",
     "output_type": "stream",
     "text": [
      "Dry grams of edible food per day = 420.36\n",
      "Expected: 420.4 grams per day\n"
     ]
    }
   ],
   "source": [
    "print('Dry grams of edible food per day =', np.round(massS1,2))\n",
    "print('Expected: 420.4 grams per day')"
   ]
  },
  {
   "cell_type": "code",
   "execution_count": 689,
   "metadata": {},
   "outputs": [],
   "source": [
    "fatFormula = np.array([1,2,0.11,0])\n",
    "carbsFormula = np.array([1,2,1,0])\n",
    "proteinFormula = np.array([1,1.6,0.32,0.26])\n",
    "MMChon = np.array([12,1,16,14])\n",
    "MM = np.array([12,1,16,14,31,23])"
   ]
  },
  {
   "cell_type": "code",
   "execution_count": 690,
   "metadata": {},
   "outputs": [
    {
     "name": "stdout",
     "output_type": "stream",
     "text": [
      "1.0000000000000002 1.8528265723435982 0.47879112690048864 0.09566272797666145\n"
     ]
    }
   ],
   "source": [
    "molFat = foodMassFraction[0]/np.sum(fatFormula*MMChon)\n",
    "molCarbs = foodMassFraction[1]/np.sum(carbsFormula*MMChon)\n",
    "molProtein = foodMassFraction[2]/np.sum(proteinFormula*MMChon)\n",
    "\n",
    "totalMolsPerGramFood = molProtein + molFat + molCarbs\n",
    "\n",
    "proteinMolFrac = molProtein / totalMolsPerGramFood\n",
    "fatMolFrac = molFat / totalMolsPerGramFood\n",
    "carbsMolFrac = molCarbs / totalMolsPerGramFood\n",
    "\n",
    "CinFood = proteinMolFrac*proteinFormula[0] + fatMolFrac*fatFormula[0] + carbsMolFrac*carbsFormula[0]\n",
    "HinFood = proteinMolFrac*proteinFormula[1] + fatMolFrac*fatFormula[1] + carbsMolFrac*carbsFormula[1]\n",
    "OinFood = proteinMolFrac*proteinFormula[2] + fatMolFrac*fatFormula[2] + carbsMolFrac*carbsFormula[2]\n",
    "NinFood = proteinMolFrac*proteinFormula[3] + fatMolFrac*fatFormula[3] + carbsMolFrac*carbsFormula[3]\n",
    "print(CinFood, HinFood, OinFood, NinFood)"
   ]
  },
  {
   "cell_type": "code",
   "execution_count": 691,
   "metadata": {},
   "outputs": [],
   "source": [
    "S1 = np.array([CinFood, HinFood, OinFood, NinFood, 0.0036, 0.0016])\n",
    "S2 = np.array([1, 1.75, 0.59, 0.125, 0.005825, 0.00172])\n",
    "S3 = np.array([1, 1.46, 0.6, 0.02, 0.0025, 0.0023])\n",
    "X3 = np.array([1,1.8,0.5,0.08,0.02,0])\n",
    "S4 = X4 = np.array([1,1.7,0.55,0.13,0.02,0])\n",
    "S5 = np.array([1, 1.7, 0.75, 0.02, 0.00275, 0.00118])\n",
    "Urea = np.array([1,4,1,2])\n"
   ]
  },
  {
   "cell_type": "code",
   "execution_count": 692,
   "metadata": {},
   "outputs": [],
   "source": [
    "massS3 = massS1 / 0.4 * 0.6\n",
    "waterInS1 = massS1 / 0.4 * 0.6 / 1000\n",
    "waterInS3 = massS3 / 0.4 * 0.6 / 1000\n",
    "\n",
    "molsS1 = massS1 / np.sum(S1*MM)\n",
    "molsS3 = massS3 / np.sum(S3*MM)"
   ]
  },
  {
   "cell_type": "code",
   "execution_count": 693,
   "metadata": {},
   "outputs": [
    {
     "name": "stdout",
     "output_type": "stream",
     "text": [
      "0.6305464736104622\n"
     ]
    }
   ],
   "source": [
    "print(waterInS1)"
   ]
  },
  {
   "attachments": {},
   "cell_type": "markdown",
   "metadata": {},
   "source": [
    "### Section 2: Hydroponics"
   ]
  },
  {
   "cell_type": "code",
   "execution_count": 694,
   "metadata": {},
   "outputs": [],
   "source": [
    "                        #  S1   ,S3   ,CO2  ,H2O  ,O2   ,NH3  ,P    ,Na   \n",
    "unit1MatrixA = np.matrix([[S1[0],S3[0],1    ,0    ,0    ,0    ,0    ,0    ],    #C\n",
    "                          [S1[1],S3[1],0    ,2    ,0    ,3    ,0    ,0    ],    #H\n",
    "                          [S1[2],S3[2],2    ,1    ,2    ,0    ,0    ,0    ],    #O\n",
    "                          [S1[3],S3[3],0    ,0    ,0    ,1    ,0    ,0    ],    #N\n",
    "                          [S1[4],S3[4],0    ,0    ,0    ,0    ,1    ,0    ],    #P\n",
    "                          [S1[5],S3[5],0    ,0    ,0    ,0    ,0    ,1    ],    #Na\n",
    "                          [1    ,0    ,0    ,0    ,0    ,0    ,0    ,0    ],    #S1 rate\n",
    "                          [0    ,1    ,0    ,0    ,0    ,0    ,0    ,0    ]     #S3 rate\n",
    "                          ])\n",
    "\n",
    "unit1MatrixR = np.matrix([[0, 0, 0, 0, 0, 0, molsS1, molsS3]]).T\n",
    "unit1Rates = np.linalg.solve(unit1MatrixA, unit1MatrixR)\n",
    "rs1U1, rs3U1, rco2U1, rh2oU1, ro2U1, rnh3U1, rpU1, rnaU1 = unit1Rates.flat"
   ]
  },
  {
   "attachments": {},
   "cell_type": "markdown",
   "metadata": {},
   "source": [
    "### Section 3: Human"
   ]
  },
  {
   "cell_type": "code",
   "execution_count": 695,
   "metadata": {},
   "outputs": [],
   "source": [
    "molsUrea = 40 / np.sum(Urea*MMChon)"
   ]
  },
  {
   "cell_type": "code",
   "execution_count": 696,
   "metadata": {},
   "outputs": [],
   "source": [
    "                        #  S1   ,S2   ,CO2  ,H2O  ,O2   ,P    ,Na   ,U\n",
    "unit2MatrixA = np.matrix([[S1[0],S2[0],1    ,0    ,0    ,0    ,0    ,1],    #C\n",
    "                          [S1[1],S2[1],0    ,2    ,0    ,0    ,0    ,4],    #H\n",
    "                          [S1[2],S2[2],2    ,1    ,2    ,0    ,0    ,1],    #O\n",
    "                          [S1[3],S2[3],0    ,0    ,0    ,0    ,0    ,2],    #N\n",
    "                          [S1[4],S2[4],0    ,0    ,0    ,1    ,0    ,0],    #P\n",
    "                          [S1[5],S2[5],0    ,0    ,0    ,0    ,1    ,0],    #Na\n",
    "                          [-1   ,0    ,0    ,0    ,0    ,0    ,0    ,0],    #S1 rate\n",
    "                          [0    ,0    ,0    ,0    ,0    ,0    ,0    ,1]     #U rate\n",
    "                          ])\n",
    "\n",
    "unit2MatrixR = np.matrix([[0, 0, 0, 0, 0, 0, molsS1, molsUrea]]).T\n",
    "unit2Rates = np.linalg.solve(unit2MatrixA, unit2MatrixR)\n",
    "rs1U2, rs2U2, rco2U2, rh2oU2, ro2U2, rpU2, rnaU2, ruU2 = unit2Rates.flat"
   ]
  },
  {
   "attachments": {},
   "cell_type": "markdown",
   "metadata": {},
   "source": [
    "### Section 4: Preparing for unit 3 & 4"
   ]
  },
  {
   "attachments": {},
   "cell_type": "markdown",
   "metadata": {},
   "source": [
    "Outline to follow:\n",
    "* Calculate substrate formula for unit 3\n",
    "* Calculate water requirements for unit 3\n"
   ]
  },
  {
   "cell_type": "code",
   "execution_count": 697,
   "metadata": {},
   "outputs": [],
   "source": [
    "thetamax3=0.55 # Unit 3\n",
    "mumax3=0.07 #1/day\n",
    "Ks_mu3=0.04 #cmol/L\n",
    "Ks_theta3=0.008/1e6  #cmol/L\n",
    "Na_conc=300/1000/23 #mol/L (300mg/L in clean water)\n",
    "mumax4=0.17 #1/day\n",
    "thetamax4=0.57 #molATP/cmolX/day in Unit4\n",
    "kla=20 #1/day\n",
    "Ks_mu4=0.002 #cmol/L\n",
    "Co_sat=7/1000/32 #mol/l\n",
    "Ko_mu4=Co_sat*0.15 #mol/L\n",
    "Ks_theta4=Ks_mu4/1e6 #cmol/L\n",
    "Ko_theta4=Ko_mu4/1e6 #mol/L\n",
    "Q1=1.5  #L"
   ]
  },
  {
   "cell_type": "code",
   "execution_count": 698,
   "metadata": {},
   "outputs": [
    {
     "name": "stdout",
     "output_type": "stream",
     "text": [
      "The calculated value for Q3 = 5.493\n",
      "Expected: 5.514 L\n",
      "\n",
      "The water which needs to be added to unit 3 before the recycle = 4.296473343488871\n"
     ]
    }
   ],
   "source": [
    "err = 1\n",
    "D3 = 1.26/3 * mumax3\n",
    "D4 = 0.739/3 * mumax4\n",
    "guessX4 = 0\n",
    "\n",
    "#------------------------------------------------Calculation of Q3---------------------------------------------------------------------\n",
    "while err > 1e-12:    \n",
    "    molsSU3 = molsS3 + rs2U2 + guessX4\n",
    "    SU3TotalMolarComposition = molsS3*S3 + rs2U2*S2 + guessX4*X4\n",
    "    SU3 = SU3TotalMolarComposition / SU3TotalMolarComposition[0]\n",
    "    massSU3 = molsSU3 * np.sum(MM*SU3)\n",
    "    requiredInletConcentration = 130 #g/L\n",
    "    Q3 = Q4 = massSU3 / requiredInletConcentration\n",
    "    existingWater = (waterInS3 + rs2U2*np.sum(MM*S2)/0.25*0.75/1000)\n",
    "    waterToBeAddedBeforeRecycle = Q3 - existingWater\n",
    "    print('The calculated value for Q3 =',round(Q3,3))\n",
    "    print('Expected: 5.514 L')\n",
    "    print('\\nThe water which needs to be added to unit 3 before the recycle =',waterToBeAddedBeforeRecycle)\n",
    "    #--------------------------------------------------Solving Unit 3---------------------------------------------------------------------\n",
    "                            #  S     ,X    ,R    ,CH4  ,CO2  ,H2O  ,NH3  ,P    ,Na   \n",
    "    unit3MatrixA = np.matrix([[SU3[0],X3[0],S5[0],1    ,1    ,0    ,0    ,0    ,0    ],    #C\n",
    "                              [SU3[1],X3[1],S5[1],4    ,0    ,2    ,3    ,0    ,0    ],    #H\n",
    "                              [SU3[2],X3[2],S5[2],0    ,2    ,1    ,0    ,0    ,0    ],    #O\n",
    "                              [SU3[3],X3[3],S5[3],0    ,0    ,0    ,1    ,0    ,0    ],    #N\n",
    "                              [SU3[4],X3[4],S5[4],0    ,0    ,0    ,0    ,1    ,0    ],    #P\n",
    "                              [SU3[5],X3[5],S5[5],0    ,0    ,0    ,0    ,0    ,1    ],    #Na\n",
    "                              [-0.35 ,-1.8 ,0    ,0    ,0    ,0    ,0    ,0    ,0    ],    #theta\n",
    "                              [0     ,1    ,0    ,0    ,0    ,0    ,0    ,0    ,0    ],    #mu\n",
    "                              [0.18  ,0    ,1    ,0    ,0    ,0    ,0    ,0    ,0    ]     #S to R ratio\n",
    "                              ])\n",
    "    #--------------------------------------------------Steady state equations unit 3---------------------------------------------------------------------\n",
    "\n",
    "    def responseFunctionUnit3(Cs):\n",
    "        mu3 = mumax3 * Cs/(Ks_mu3 + Cs)\n",
    "        theta3 = thetamax3 * Cs/(Ks_theta3 + Cs)\n",
    "        unit3MatrixR = np.matrix([[0,0,0,0,0,0,theta3,mu3,0]]).T\n",
    "        r1Unit3 = np.linalg.solve(unit3MatrixA,unit3MatrixR)\n",
    "        return r1Unit3              # Order is S:[0]    X:[1]   R:[2]   CH4:[3]   Co2:[4]    H2O:[5]   NH3:[6]    P:[7]    Na:[8]\n",
    "\n",
    "    Csf3, Cxf3, Crf3, Cnh3f3, Cpf3, Cnaf3 = [requiredInletConcentration/np.sum(MM*SU3), 0, 0, 0, 0, Na_conc*waterToBeAddedBeforeRecycle/Q3]\n",
    "\n",
    "    def steadyStateUnit3(C):\n",
    "        Cs, Cx, Cr, Cnh3, Cp, Cna = C\n",
    "        rs, rx, rr, rch4, rco2, rh2o, rnh3, rp, rna = responseFunctionUnit3(Cs).flat\n",
    "        return[\n",
    "            D3*(Csf3 - Cs) + rs*Cx,\n",
    "            D3*(Cxf3 - Cx) + rx*Cx,\n",
    "            D3*(Crf3 - Cr) + rr*Cx,\n",
    "            D3*(Cnh3f3 - Cnh3) + rnh3*Cx,\n",
    "            D3*(Cpf3 - Cp) + rp*Cx,\n",
    "            D3*(Cnaf3 - Cna) + rna*Cx\n",
    "        ]\n",
    "    #---------------------------------------------------------------------------------------------------------------------------------------------\n",
    "    guess3 = [0.01, 0.01, 0.95, 0.146, 0.011, 0.021]\n",
    "    steadyState3 = fsolve(steadyStateUnit3,guess3)\n",
    "    Cs3Final, Cx3Final, Cr3Final, Cnh33Final, Cp3Final, Cna3Final = steadyState3.flat\n",
    "\n",
    "    #--------------------------------------------------Substrate going into 4---------------------------------------------------------------------\n",
    "    molsSU4 = Cs3Final + Cx3Final\n",
    "    SU4TotalMolarComposition = Cs3Final*SU3 + Cx3Final*X3\n",
    "    SU4 = SU4TotalMolarComposition / SU4TotalMolarComposition[0]\n",
    "    #--------------------------------------------------Steady state equations unit 4----------------------------------------------------------------\n",
    "\n",
    "                            #  S     ,O2   ,X    ,CO2  ,H2O  ,NH3  ,P    ,Na   \n",
    "    unit4MatrixA = np.matrix([[SU4[0],0    ,X4[0],1    ,0    ,0    ,0    ,0    ],    #C\n",
    "                              [SU4[1],0    ,X4[1],0    ,2    ,3    ,0    ,0    ],    #H\n",
    "                              [SU4[2],2    ,X4[2],2    ,1    ,0    ,0    ,0    ],    #O\n",
    "                              [SU4[3],0    ,X4[3],0    ,0    ,1    ,0    ,0    ],    #N\n",
    "                              [SU4[4],0    ,X4[4],0    ,0    ,0    ,1    ,0    ],    #P\n",
    "                              [SU4[5],0    ,X4[5],0    ,0    ,0    ,0    ,1    ],    #Na\n",
    "                              [0     ,-3   ,-2.5 ,0    ,0    ,0    ,0    ,0    ],    #theta\n",
    "                              [0     ,0    ,1    ,0    ,0    ,0    ,0    ,0    ]     #mu\n",
    "                              ])\n",
    "\n",
    "    def responseFunctionUnit4(Cs,Co):\n",
    "        mu4 = mumax4*Cs/(Ks_mu4+Cs)*(Co/(Ko_mu4+Co))\n",
    "        theta4 = thetamax4*Cs/(Ks_theta4+Cs)*(Co/(Ko_theta4+Co))\n",
    "        unit4MatrixR = np.matrix([[0,0,0,0,0,0,theta4,mu4]]).T\n",
    "        r1Unit4 = np.linalg.solve(unit4MatrixA,unit4MatrixR)\n",
    "        return r1Unit4\n",
    "\n",
    "    Csf4, Cof4, Cxf4, Cnh3f4, Cpf4, Cnaf4 = [molsSU4, Co_sat/2, 0, Cnh33Final, Cp3Final, Cna3Final]\n",
    "\n",
    "    def steadyStateUnit4(C):\n",
    "        Cs, Co, Cx, Cnh3, Cp, Cna = C\n",
    "        rs, ro, rx, rco2, rh2o, rnh3, rp, rna = responseFunctionUnit4(Cs,Co).flat   \n",
    "        return [\n",
    "        rs*Cx + D4*(Csf4-Cs),\n",
    "        ro*Cx + kla*(Co_sat-Co),\n",
    "        rx*Cx + D4*(Cxf4-Cx),\n",
    "        rnh3*Cx + D4*(Cnh3f4-Cnh3),\n",
    "        rp*Cx + D4*(Cpf4-Cp),\n",
    "        rna*Cx + D4*(Cnaf4-Cna)\n",
    "        ]\n",
    "    #----------------------------------------------------------------------------------------------------------------------------------------------------\n",
    "    guess4 = [0.09, 2.42e-5, 0.018, 0.15, 0.02, 0.01]\n",
    "    steadyState4 = fsolve(steadyStateUnit4,guess4)\n",
    "    Cs4Final, Co4Final, Cx4Final, Cnh34Final, Cp4Final, Cna4Final = steadyState4.flat\n",
    "\n",
    "    #-----------------------------------------------------Closing while loop--------------------------------------------------------------------\n",
    "    err = guessX4 - Cx4Final\n",
    "    guessX4 = Cx4Final"
   ]
  },
  {
   "cell_type": "code",
   "execution_count": 699,
   "metadata": {},
   "outputs": [
    {
     "name": "stdout",
     "output_type": "stream",
     "text": [
      "Total water required = 5.4929\n",
      "Expected: 5.514\n",
      "\n",
      "CNh3 in 3 = 145.3; CP in 3 = 11.1; CNa in 3 = 21.3\n",
      "Expected: CNh3 in 3 = 145.3; CP in 3 = 10.8; CNa in 3 = 21.8\n",
      "\n",
      "CNh3 in 4 = 151.3; CP in 4 = 12.7; CNa in 4 = 21.3\n",
      "Expected: CNh3 in 4 = 153; CP in 4 = 13; CNa in 4 = 21.3\n",
      "\n",
      "Mass of substrate leaving unit 4 = 0.39907601435320944\n",
      "\n",
      "Biomass formed in unit 4 = 0.0183\n"
     ]
    }
   ],
   "source": [
    "print('Total water required =',round(Q3,4))\n",
    "print('Expected: 5.514')\n",
    "print('\\nCNh3 in 3 = {}; CP in 3 = {}; CNa in 3 = {}'.format(np.round(Cnh33Final*1000,1),np.round(Cp3Final*1000,1),np.round(Cna3Final*1000,1)))\n",
    "print('Expected: CNh3 in 3 = 145.3; CP in 3 = 10.8; CNa in 3 = 21.8')\n",
    "print('\\nCNh3 in 4 = {}; CP in 4 = {}; CNa in 4 = {}'.format(np.round(Cnh34Final*1000+Cs4Final*SU4[3]*1000,1),np.round(Cp4Final*1000+Cs4Final*SU4[4]*1000,1),np.round(Cna4Final*1000+Cs4Final*SU4[5]*1000,1)))\n",
    "print('Expected: CNh3 in 4 = 153; CP in 4 = 13; CNa in 4 = 21.3')\n",
    "print('\\nMass of substrate leaving unit 4 =',Cs4Final*np.sum(MM*SU4))\n",
    "print('\\nBiomass formed in unit 4 =',np.round(Cx4Final,4))\n"
   ]
  },
  {
   "cell_type": "code",
   "execution_count": 700,
   "metadata": {},
   "outputs": [
    {
     "data": {
      "text/plain": [
       "21.321271733719048"
      ]
     },
     "execution_count": 700,
     "metadata": {},
     "output_type": "execute_result"
    }
   ],
   "source": [
    "Cna4Final*1000"
   ]
  },
  {
   "cell_type": "code",
   "execution_count": 701,
   "metadata": {},
   "outputs": [
    {
     "name": "stdout",
     "output_type": "stream",
     "text": [
      "318.00038561090383\n"
     ]
    }
   ],
   "source": [
    "V3 = Q3/D3\n",
    "V4 = Q4/D4\n",
    "Vtot = V3 + V4\n",
    "print(Vtot)"
   ]
  },
  {
   "cell_type": "code",
   "execution_count": 702,
   "metadata": {},
   "outputs": [
    {
     "data": {
      "text/plain": [
       "-91.03214602478292"
      ]
     },
     "execution_count": 702,
     "metadata": {},
     "output_type": "execute_result"
    }
   ],
   "source": [
    "rnaU1*1000"
   ]
  },
  {
   "cell_type": "code",
   "execution_count": null,
   "metadata": {},
   "outputs": [],
   "source": []
  },
  {
   "cell_type": "code",
   "execution_count": null,
   "metadata": {},
   "outputs": [],
   "source": []
  },
  {
   "cell_type": "code",
   "execution_count": null,
   "metadata": {},
   "outputs": [],
   "source": []
  },
  {
   "cell_type": "code",
   "execution_count": null,
   "metadata": {},
   "outputs": [],
   "source": []
  },
  {
   "cell_type": "code",
   "execution_count": 703,
   "metadata": {},
   "outputs": [],
   "source": [
    "#Write down the minimum volume below:\n",
    "#318.00038561090383"
   ]
  },
  {
   "cell_type": "code",
   "execution_count": 704,
   "metadata": {},
   "outputs": [
    {
     "name": "stdout",
     "output_type": "stream",
     "text": [
      "2.0816681711721685e-17\n",
      "1.3877787807814457e-17\n",
      "-1.1102230246251565e-16\n"
     ]
    }
   ],
   "source": [
    "unit3PBalance = Csf3*Q3*SU3[4] - Cs3Final*Q3*SU3[4] - Cx3Final*Q3*X3[4] - Cr3Final*Q3*S5[4]  - Cp3Final*Q3\n",
    "unit3NaBalance = Csf3*Q3*SU3[5] + Cnaf3*Q3 - Cs3Final*Q3*SU3[5] - Cx3Final*Q3*X3[5] - Cr3Final*Q3*S5[5]  - Cna3Final*Q3\n",
    "unit3NBalance = Csf3*Q3*SU3[3] - Cs3Final*Q3*SU3[3] - Cx3Final*Q3*X3[3] - Cr3Final*Q3*S5[3] - Cnh33Final*Q3\n",
    "print(unit3PBalance)\n",
    "print(unit3NaBalance)\n",
    "print(unit3NBalance)"
   ]
  },
  {
   "cell_type": "code",
   "execution_count": 705,
   "metadata": {},
   "outputs": [
    {
     "name": "stdout",
     "output_type": "stream",
     "text": [
      "4.9873299934333204e-18\n",
      "-3.9776667203061944e-18\n",
      "-1.1102230246251565e-16\n"
     ]
    }
   ],
   "source": [
    "unit4PBalance = Cpf4*Q4 + Csf4*Q4*SU4[4] - Cp4Final*(Q4) - Cx4Final * X4[4] * Q4 - Cs4Final*Q4*SU4[4]\n",
    "unit4NaBalance = Cnaf4*Q4 + Csf4*Q4*SU4[5] - Cna4Final*Q4 - Cs4Final*Q4*SU4[5]\n",
    "unit4NBalance = Csf4*Q4*SU4[3] + Cnh3f4*Q4 - Cs4Final*Q4*SU4[3] - Cx4Final*Q4*X4[3] - Cnh34Final*Q4\n",
    "print(unit4PBalance)\n",
    "print(unit4NaBalance)\n",
    "print(unit4NBalance)"
   ]
  },
  {
   "cell_type": "code",
   "execution_count": null,
   "metadata": {},
   "outputs": [],
   "source": []
  },
  {
   "cell_type": "code",
   "execution_count": 706,
   "metadata": {},
   "outputs": [
    {
     "name": "stdout",
     "output_type": "stream",
     "text": [
      "0.7416313663279155\n",
      "0.0008332814561855958\n",
      "-0.0003780549542769735\n",
      "-0.0009778767271872687\n",
      "0.29647334348887067\n"
     ]
    }
   ],
   "source": [
    "err1 = 1\n",
    "err2 = 1\n",
    "err3 = 1\n",
    "#Lp = 0.7\n",
    "L5 = 4\n",
    "\n",
    "#------------------------------------------------Calculation of Q3---------------------------------------------------------------------\n",
    "\n",
    "\n",
    "waterInPlants = (massS1 / 0.4*0.6 + massS3/0.4*0.6)/1000\n",
    "L1 = Q1\n",
    "L4 = Q4\n",
    "Lagri = waterInPlants - rh2oU1*18/1000 + (massS1+massS3)/0.4*0.03/1000\n",
    "#L5 = L1 + L4 - Lp - Lagri\n",
    "Lp = L1 + L4 - Lagri - L5\n",
    "L2 = Q3 - L5 - existingWater\n",
    "\n",
    "PEnteringS0 = 0.014965\n",
    "NaEnteringS0 = 0.00178\n",
    "NEnteringS0 = 0.108359\n",
    "\n",
    "PLeavingS5 = Cr3Final*Q3*S5[4]\n",
    "NaLeavingS5 = Cr3Final*Q3*S5[5]\n",
    "NLeavingS5 = Cr3Final*Q3*S5[3]\n",
    "\n",
    "CpU5 = (PEnteringS0 - PLeavingS5) / Lp\n",
    "CnaU5 = (NaEnteringS0 - NaLeavingS5 + Na_conc*L2) / Lp\n",
    "CNh3U5 = (NEnteringS0 - NLeavingS5) / Lp\n",
    "\n",
    "#--------------------------------------------------Solving Unit 3---------------------------------------------------------------------\n",
    "                        #  S     ,X    ,R    ,CH4  ,CO2  ,H2O  ,NH3  ,P    ,Na   \n",
    "unit3MatrixA = np.matrix([[SU3[0],X3[0],S5[0],1    ,1    ,0    ,0    ,0    ,0    ],    #C\n",
    "                          [SU3[1],X3[1],S5[1],4    ,0    ,2    ,3    ,0    ,0    ],    #H\n",
    "                          [SU3[2],X3[2],S5[2],0    ,2    ,1    ,0    ,0    ,0    ],    #O\n",
    "                          [SU3[3],X3[3],S5[3],0    ,0    ,0    ,1    ,0    ,0    ],    #N\n",
    "                          [SU3[4],X3[4],S5[4],0    ,0    ,0    ,0    ,1    ,0    ],    #P\n",
    "                          [SU3[5],X3[5],S5[5],0    ,0    ,0    ,0    ,0    ,1    ],    #Na\n",
    "                          [-0.35 ,-1.8 ,0    ,0    ,0    ,0    ,0    ,0    ,0    ],    #theta\n",
    "                          [0     ,1    ,0    ,0    ,0    ,0    ,0    ,0    ,0    ],    #mu\n",
    "                          [0.18  ,0    ,1    ,0    ,0    ,0    ,0    ,0    ,0    ]     #S to R ratio\n",
    "                          ])\n",
    "#--------------------------------------------------Steady state equations unit 3---------------------------------------------------------------------\n",
    "def responseFunctionUnit3(Cs):\n",
    "    mu3 = mumax3 * Cs/(Ks_mu3 + Cs)\n",
    "    theta3 = thetamax3 * Cs/(Ks_theta3 + Cs)\n",
    "    unit3MatrixR = np.matrix([[0,0,0,0,0,0,theta3,mu3,0]]).T\n",
    "    r1Unit3 = np.linalg.solve(unit3MatrixA,unit3MatrixR)\n",
    "    return r1Unit3              # Order is S:[0]    X:[1]   R:[2]   CH4:[3]   Co2:[4]    H2O:[5]   NH3:[6]    P:[7]    Na:[8]\n",
    "Csf3, Cxf3, Crf3, Cnh3f3, Cpf3, Cnaf3 = [requiredInletConcentration/np.sum(MM*SU3), 0, 0, 0+CNh3U5*L5, 0+CpU5*L5, Na_conc*L2+CnaU5*L5]\n",
    "def steadyStateUnit3(C):\n",
    "    Cs, Cx, Cr, Cnh3, Cp, Cna = C\n",
    "    rs, rx, rr, rch4, rco2, rh2o, rnh3, rp, rna = responseFunctionUnit3(Cs).flat\n",
    "    return[\n",
    "        D3*(Csf3 - Cs) + rs*Cx,\n",
    "        D3*(Cxf3 - Cx) + rx*Cx,\n",
    "        D3*(Crf3 - Cr) + rr*Cx,\n",
    "        D3*(Cnh3f3 - Cnh3) + rnh3*Cx,\n",
    "        D3*(Cpf3 - Cp) + rp*Cx,\n",
    "        D3*(Cnaf3 - Cna) + rna*Cx\n",
    "    ]\n",
    "#---------------------------------------------------------------------------------------------------------------------------------------------\n",
    "guess3 = [0.01, 0.01, 0.95, 0.146, 0.011, 0.021]\n",
    "steadyState3 = fsolve(steadyStateUnit3,guess3)\n",
    "Cs3Final, Cx3Final, Cr3Final, Cnh33Final, Cp3Final, Cna3Final = steadyState3.flat\n",
    "#--------------------------------------------------Substrate going into 4---------------------------------------------------------------------\n",
    "molsSU4 = Cs3Final + Cx3Final\n",
    "SU4TotalMolarComposition = Cs3Final*SU3 + Cx3Final*X3\n",
    "SU4 = SU4TotalMolarComposition / SU4TotalMolarComposition[0]\n",
    "#--------------------------------------------------Steady state equations unit 4----------------------------------------------------------------\n",
    "                        #  S     ,O2   ,X    ,CO2  ,H2O  ,NH3  ,P    ,Na   \n",
    "unit4MatrixA = np.matrix([[SU4[0],0    ,X4[0],1    ,0    ,0    ,0    ,0    ],    #C\n",
    "                          [SU4[1],0    ,X4[1],0    ,2    ,3    ,0    ,0    ],    #H\n",
    "                          [SU4[2],2    ,X4[2],2    ,1    ,0    ,0    ,0    ],    #O\n",
    "                          [SU4[3],0    ,X4[3],0    ,0    ,1    ,0    ,0    ],    #N\n",
    "                          [SU4[4],0    ,X4[4],0    ,0    ,0    ,1    ,0    ],    #P\n",
    "                          [SU4[5],0    ,X4[5],0    ,0    ,0    ,0    ,1    ],    #Na\n",
    "                          [0     ,-3   ,-2.5 ,0    ,0    ,0    ,0    ,0    ],    #theta\n",
    "                          [0     ,0    ,1    ,0    ,0    ,0    ,0    ,0    ]     #mu\n",
    "                          ])\n",
    "def responseFunctionUnit4(Cs,Co):\n",
    "    mu4 = mumax4*Cs/(Ks_mu4+Cs)*(Co/(Ko_mu4+Co))\n",
    "    theta4 = thetamax4*Cs/(Ks_theta4+Cs)*(Co/(Ko_theta4+Co))\n",
    "    unit4MatrixR = np.matrix([[0,0,0,0,0,0,theta4,mu4]]).T\n",
    "    r1Unit4 = np.linalg.solve(unit4MatrixA,unit4MatrixR)\n",
    "    return r1Unit4\n",
    "Csf4, Cof4, Cxf4, Cnh3f4, Cpf4, Cnaf4 = [molsSU4, Co_sat/2, 0, Cnh33Final, Cp3Final, Cna3Final]\n",
    "def steadyStateUnit4(C):\n",
    "    Cs, Co, Cx, Cnh3, Cp, Cna = C\n",
    "    rs, ro, rx, rco2, rh2o, rnh3, rp, rna = responseFunctionUnit4(Cs,Co).flat   \n",
    "    return [\n",
    "    rs*Cx + D4*(Csf4-Cs),\n",
    "    ro*Cx + kla*(Co_sat-Co),\n",
    "    rx*Cx + D4*(Cxf4-Cx),\n",
    "    rnh3*Cx + D4*(Cnh3f4-Cnh3),\n",
    "    rp*Cx + D4*(Cpf4-Cp),\n",
    "    rna*Cx + D4*(Cnaf4-Cna)\n",
    "    ]\n",
    "#----------------------------------------------------------------------------------------------------------------------------------------------------\n",
    "guess4 = [0.09, 2.42e-5, 0.018, 0.15, 0.02, 0.01]\n",
    "steadyState4 = fsolve(steadyStateUnit4,guess4)\n",
    "Cs4Final, Co4Final, Cx4Final, Cnh34Final, Cp4Final, Cna4Final = steadyState4.flat\n",
    "#-----------------------------------------------------Closing while loop--------------------------------------------------------------------\n",
    "# err1 = unit5PBalance\n",
    "# err2 = unit5NaBalance\n",
    "# err3 = unit5NBalance\n",
    "print(Lp)\n",
    "#Overall concentrations:\n",
    "molNL1 = 40/np.sum(MMChon*Urea)*2   #mol N / day\n",
    "molNL4 = Cnh34Final*L4 + Cs4Final*L4*S4[3]   #mol N / day\n",
    "molPL4 = Cp4Final*Q4 + Cs4Final*L4*S4[4]     #mol P / day\n",
    "#Minerals entering and leaving:\n",
    "\n",
    "\n",
    "# PEntering = PLeavingS5 + CpU5*Lp\n",
    "# NaEntering = NaLeaving + CnaU5*Lp - Na_conc*L2\n",
    "# NEntering = NLeaving + CNh3U5*Lp\n",
    "\n",
    "unit5PBalance = molPL4 + PEnteringS0 + rpU1 + rpU2 - CpU5*Lp - CpU5*L5\n",
    "unit5NaBalance = Cna4Final*Q4 + NaEnteringS0 + rnaU1 + rnaU2 - CnaU5*Lp - CnaU5*L5\n",
    "unit5NBalance = NEnteringS0 + molNL1 + molNL4 + rnh3U1 - CNh3U5*Lp - CNh3U5*L5\n",
    "print(unit5PBalance)\n",
    "print(unit5NaBalance)\n",
    "print(unit5NBalance)\n",
    "print(L2)"
   ]
  },
  {
   "cell_type": "code",
   "execution_count": 707,
   "metadata": {},
   "outputs": [
    {
     "data": {
      "text/plain": [
       "-0.003940221126332691"
      ]
     },
     "execution_count": 707,
     "metadata": {},
     "output_type": "execute_result"
    }
   ],
   "source": [
    "CnaU5*L5"
   ]
  },
  {
   "cell_type": "code",
   "execution_count": 708,
   "metadata": {},
   "outputs": [
    {
     "name": "stdout",
     "output_type": "stream",
     "text": [
      "-0.00010196894994744972\n",
      "0.0\n"
     ]
    }
   ],
   "source": [
    "print(PLeavingS5 - PEnteringS0)\n",
    "print(NLeavingS5 - NEnteringS0 + Lp*CNh3U5  )"
   ]
  },
  {
   "cell_type": "code",
   "execution_count": 738,
   "metadata": {},
   "outputs": [
    {
     "data": {
      "text/plain": [
       "array([1.00000000e+00, 1.72700475e+00, 5.23431077e-01, 6.85209290e-02,\n",
       "       1.59406002e-02, 5.29795061e-04])"
      ]
     },
     "execution_count": 738,
     "metadata": {},
     "output_type": "execute_result"
    }
   ],
   "source": [
    "SU4"
   ]
  },
  {
   "cell_type": "code",
   "execution_count": 736,
   "metadata": {},
   "outputs": [
    {
     "data": {
      "text/plain": [
       "465"
      ]
     },
     "execution_count": 736,
     "metadata": {},
     "output_type": "execute_result"
    }
   ],
   "source": []
  },
  {
   "cell_type": "code",
   "execution_count": null,
   "metadata": {},
   "outputs": [],
   "source": []
  }
 ],
 "metadata": {
  "kernelspec": {
   "display_name": "base",
   "language": "python",
   "name": "python3"
  },
  "language_info": {
   "codemirror_mode": {
    "name": "ipython",
    "version": 3
   },
   "file_extension": ".py",
   "mimetype": "text/x-python",
   "name": "python",
   "nbconvert_exporter": "python",
   "pygments_lexer": "ipython3",
   "version": "3.10.9"
  },
  "orig_nbformat": 4
 },
 "nbformat": 4,
 "nbformat_minor": 2
}
